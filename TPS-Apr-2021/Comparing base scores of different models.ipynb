{
 "cells": [
  {
   "cell_type": "markdown",
   "id": "dad245ff",
   "metadata": {
    "papermill": {
     "duration": 0.010254,
     "end_time": "2021-07-13T05:04:06.043018",
     "exception": false,
     "start_time": "2021-07-13T05:04:06.032764",
     "status": "completed"
    },
    "tags": []
   },
   "source": [
    "______________________\n",
    "# Summary\n",
    "- **Test different models for their base score and select best model for further optimization**\n",
    "\n",
    "*Note : To understand Preprocessing, EDA and Feature Engeering done in this notebook : [EDA & FE](https://www.kaggle.com/abhinavnayak/eda-4-insights-fe-2-new-features)*\n",
    "\n",
    "<a id='content-table'></a>\n",
    "## Table of Contents\n",
    "1. [Fill Missing values, EDA and FE](#tag1)\n",
    "2. [Define all the models to test](#tag2)   \n",
    "3. [Using 5-fold cross validation to get accuracy scores](#tag3)      \n",
    "4. [Print accuracy values](#tag4)\n",
    "5. [Use best model to predict on test data](#tag5)\n",
    "6. [Submit your prediction](#tag6)"
   ]
  },
  {
   "cell_type": "code",
   "execution_count": 1,
   "id": "92f734bd",
   "metadata": {
    "execution": {
     "iopub.execute_input": "2021-07-13T05:04:06.071604Z",
     "iopub.status.busy": "2021-07-13T05:04:06.069906Z",
     "iopub.status.idle": "2021-07-13T05:04:06.800625Z",
     "shell.execute_reply": "2021-07-13T05:04:06.801182Z",
     "shell.execute_reply.started": "2021-07-13T04:56:10.676649Z"
    },
    "papermill": {
     "duration": 0.748675,
     "end_time": "2021-07-13T05:04:06.801485",
     "exception": false,
     "start_time": "2021-07-13T05:04:06.052810",
     "status": "completed"
    },
    "tags": []
   },
   "outputs": [],
   "source": [
    "import numpy as np \n",
    "import pandas as pd \n",
    "\n",
    "train = pd.read_csv('/kaggle/input/tabular-playground-series-apr-2021/train.csv')\n",
    "test = pd.read_csv('/kaggle/input/tabular-playground-series-apr-2021/test.csv')\n",
    "submission = pd.read_csv('/kaggle/input/tabular-playground-series-apr-2021/sample_submission.csv')"
   ]
  },
  {
   "cell_type": "markdown",
   "id": "eb47f735",
   "metadata": {
    "papermill": {
     "duration": 0.009357,
     "end_time": "2021-07-13T05:04:06.820207",
     "exception": false,
     "start_time": "2021-07-13T05:04:06.810850",
     "status": "completed"
    },
    "tags": []
   },
   "source": [
    "<a id='tag1'></a>\n",
    "## 1) [Fill Missing values, EDA and FE](#content-table)\n",
    "\n",
    "- All missing values filled\n",
    "- Created 3 new features : 'Cabin_type', 'Ticket_type', 'total_member'\n",
    "- Dropped 6 features : 'Cabin', 'Ticket', 'SibSp', 'Parch', 'Name', 'PassengerId'\n",
    "- One hot encoding "
   ]
  },
  {
   "cell_type": "code",
   "execution_count": 2,
   "id": "15897084",
   "metadata": {
    "execution": {
     "iopub.execute_input": "2021-07-13T05:04:06.862445Z",
     "iopub.status.busy": "2021-07-13T05:04:06.857951Z",
     "iopub.status.idle": "2021-07-13T05:04:07.850782Z",
     "shell.execute_reply": "2021-07-13T05:04:07.849416Z",
     "shell.execute_reply.started": "2021-07-13T04:56:13.171407Z"
    },
    "papermill": {
     "duration": 1.022025,
     "end_time": "2021-07-13T05:04:07.851043",
     "exception": false,
     "start_time": "2021-07-13T05:04:06.829018",
     "status": "completed"
    },
    "tags": []
   },
   "outputs": [
    {
     "name": "stdout",
     "output_type": "stream",
     "text": [
      "% Missing values in each column :\n",
      "Survived         0.0\n",
      "Pclass           0.0\n",
      "Sex              0.0\n",
      "Age              0.0\n",
      "Fare             0.0\n",
      "Embarked         0.0\n",
      "Cabin_type       0.0\n",
      "Ticket_type      0.0\n",
      "total_members    0.0\n",
      "dtype: float64\n"
     ]
    }
   ],
   "source": [
    "# Combine train and test\n",
    "test['Survived'] = -1\n",
    "all_data = pd.concat([train, test])\n",
    "\n",
    "# Fill 'Age', 'Embarked'\n",
    "for col in ['Age']:\n",
    "    all_data[col] = all_data[col].fillna(all_data[col].mean())\n",
    "    \n",
    "for col in ['Embarked']:\n",
    "    all_data[col] = all_data[col].fillna('X') \n",
    "\n",
    "# Fill 'Fare'\n",
    "all_data['Fare'] = all_data.groupby('Pclass')['Fare'].transform(lambda x: x.fillna(x.mean()))\n",
    "    \n",
    "# New feature 'Cabin_filled', drop 'Cabin'\n",
    "all_data['Cabin_type'] = all_data['Cabin'].fillna('X').map(lambda x: x[0].split()[0])    \n",
    "all_data.drop('Cabin', axis = 1, inplace = True)\n",
    "\n",
    "# New feature 'Ticket_type', drop 'Ticket'\n",
    "import re\n",
    "\n",
    "def fn1(x):\n",
    "    if isinstance(x, str):\n",
    "        if len(re.findall(\"^\\d+$\", x))>0:\n",
    "            return 'type1'\n",
    "        if len(re.findall(\"^(A\\.|A/S|A/5|A/4|AQ/4|AQ/3|A4)\", x))>0:\n",
    "            return 'type2'\n",
    "        if len(re.findall(\"^(C|CA|CA\\.|C\\.A\\.)\", x))>0:\n",
    "            return 'type3'\n",
    "        if len(re.findall(\"^(SC|S\\.C\\.|SC/PARIS|S\\.C\\./PARIS|SC/Paris|SC/AH|S\\.C\\./A\\.4)\", x))>0:\n",
    "            return 'type4'\n",
    "        if len(re.findall(\"^(PC|PP|P\\.P|P/PP)\", x))>0:\n",
    "            return 'type5'\n",
    "        if len(re.findall(\"^(W\\.C\\.|W./C\\.|W/C)\", x))>0:\n",
    "            return 'type6'\n",
    "        if len(re.findall(\"^(SOTON/O\\.Q|SOTON/OQ|STON/O|STON/O2|SOTON/O2)\", x))>0:\n",
    "            return 'type7'\n",
    "        if len(re.findall(\"^(WE/P|W\\.E\\.P)\", x))>0:\n",
    "            return 'type8'\n",
    "        if len(re.findall(\"^(F\\.C|F\\.C\\.C|Fa)\", x))>0:\n",
    "            return 'type9'\n",
    "        if len(re.findall(\"^(LP)\", x))>0:\n",
    "            return 'type10'\n",
    "        if len(re.findall(\"^(S\\.O\\.C|S\\.P|S\\.O|P\\.P|SO/C)\", x))>0:\n",
    "            return 'type11'\n",
    "        if len(re.findall(\"^(S\\.W\\./PP|SW/PP)\", x))>0:\n",
    "            return 'type12'\n",
    "        \n",
    "        else:\n",
    "            return x\n",
    "    else:\n",
    "        return 'type1'\n",
    "    \n",
    "all_data['Ticket_type'] = all_data['Ticket'].apply(lambda x: fn1(x))\n",
    "all_data.drop('Ticket', axis = 1, inplace = True)\n",
    "\n",
    "# New feature 'total_members', drop 'SibSp' and 'Parch'\n",
    "all_data['total_members'] = all_data['SibSp'] + all_data['Parch'] + 1\n",
    "all_data.drop(['SibSp', 'Parch'], axis = 1, inplace = True)\n",
    "\n",
    "# drop 'Name' and 'PassengerId'\n",
    "all_data.drop(['Name', 'PassengerId'], axis = 1, inplace = True)\n",
    "\n",
    "# Check missing values\n",
    "print(\"% Missing values in each column :\")\n",
    "print(all_data.isnull().sum()/len(train)*100)\n",
    "\n",
    "# Get the categorical columns\n",
    "cols = [col for col in all_data.columns if all_data[col].dtype == 'object']\n",
    "\n",
    "# One-hot-encode\n",
    "all_data = pd.get_dummies(all_data, drop_first = True)\n",
    "\n",
    "# all_data --> train, test\n",
    "n_train = len(train)\n",
    "train = all_data.iloc[:n_train].copy()   # This will create copy of the df. Done to avoid future warnings\n",
    "test = all_data.iloc[n_train:].copy()\n",
    "\n",
    "# Remove 'Survived' column from test data\n",
    "test.drop('Survived', axis = 1,inplace = True)"
   ]
  },
  {
   "cell_type": "markdown",
   "id": "08c98e7d",
   "metadata": {
    "papermill": {
     "duration": 0.009654,
     "end_time": "2021-07-13T05:04:07.871726",
     "exception": false,
     "start_time": "2021-07-13T05:04:07.862072",
     "status": "completed"
    },
    "tags": []
   },
   "source": [
    "<a id='tag2'></a>\n",
    "## 2) [Define all the models to test](#content-table)\n",
    "\n",
    "- Import libraries\n",
    "- Create a list of models"
   ]
  },
  {
   "cell_type": "code",
   "execution_count": 3,
   "id": "735e9a2d",
   "metadata": {
    "execution": {
     "iopub.execute_input": "2021-07-13T05:04:07.897102Z",
     "iopub.status.busy": "2021-07-13T05:04:07.896441Z",
     "iopub.status.idle": "2021-07-13T05:04:10.497707Z",
     "shell.execute_reply": "2021-07-13T05:04:10.498200Z",
     "shell.execute_reply.started": "2021-07-13T04:56:15.414071Z"
    },
    "papermill": {
     "duration": 2.61755,
     "end_time": "2021-07-13T05:04:10.498366",
     "exception": false,
     "start_time": "2021-07-13T05:04:07.880816",
     "status": "completed"
    },
    "tags": []
   },
   "outputs": [
    {
     "data": {
      "text/html": [
       "<style type='text/css'>\n",
       ".datatable table.frame { margin-bottom: 0; }\n",
       ".datatable table.frame thead { border-bottom: none; }\n",
       ".datatable table.frame tr.coltypes td {  color: #FFFFFF;  line-height: 6px;  padding: 0 0.5em;}\n",
       ".datatable .bool    { background: #DDDD99; }\n",
       ".datatable .object  { background: #565656; }\n",
       ".datatable .int     { background: #5D9E5D; }\n",
       ".datatable .float   { background: #4040CC; }\n",
       ".datatable .str     { background: #CC4040; }\n",
       ".datatable .time    { background: #40CC40; }\n",
       ".datatable .row_index {  background: var(--jp-border-color3);  border-right: 1px solid var(--jp-border-color0);  color: var(--jp-ui-font-color3);  font-size: 9px;}\n",
       ".datatable .frame tbody td { text-align: left; }\n",
       ".datatable .frame tr.coltypes .row_index {  background: var(--jp-border-color0);}\n",
       ".datatable th:nth-child(2) { padding-left: 12px; }\n",
       ".datatable .hellipsis {  color: var(--jp-cell-editor-border-color);}\n",
       ".datatable .vellipsis {  background: var(--jp-layout-color0);  color: var(--jp-cell-editor-border-color);}\n",
       ".datatable .na {  color: var(--jp-cell-editor-border-color);  font-size: 80%;}\n",
       ".datatable .sp {  opacity: 0.25;}\n",
       ".datatable .footer { font-size: 9px; }\n",
       ".datatable .frame_dimensions {  background: var(--jp-border-color3);  border-top: 1px solid var(--jp-border-color0);  color: var(--jp-ui-font-color3);  display: inline-block;  opacity: 0.6;  padding: 1px 10px 1px 5px;}\n",
       "</style>\n"
      ],
      "text/plain": [
       "<IPython.core.display.HTML object>"
      ]
     },
     "metadata": {},
     "output_type": "display_data"
    },
    {
     "name": "stdout",
     "output_type": "stream",
     "text": [
      "LogisticRegression :- LogisticRegression(random_state=42, solver='liblinear')\n",
      "RidgeClassifier :- RidgeClassifier(random_state=42)\n",
      "SGDClassifier :- SGDClassifier(random_state=42)\n",
      "DecisionTreeClassifier :- DecisionTreeClassifier(random_state=42)\n",
      "RandomForestClassifier :- RandomForestClassifier(random_state=42)\n",
      "ExtraTreesClassifier :- ExtraTreesClassifier(random_state=42)\n",
      "LGBMClassifier :- LGBMClassifier(verbose=-1)\n",
      "XGBClassifier :- XGBClassifier(base_score=None, booster=None, colsample_bylevel=None,\n",
      "              colsample_bynode=None, colsample_bytree=None, gamma=None,\n",
      "              gpu_id=None, importance_type='gain', interaction_constraints=None,\n",
      "              learning_rate=None, max_delta_step=None, max_depth=None,\n",
      "              min_child_weight=None, missing=nan, monotone_constraints=None,\n",
      "              n_estimators=100, n_jobs=None, num_parallel_tree=None,\n",
      "              random_state=None, reg_alpha=None, reg_lambda=None,\n",
      "              scale_pos_weight=None, subsample=None, tree_method=None,\n",
      "              use_label_encoder=False, validate_parameters=None, verbosity=0)\n",
      "CatBoostClassifier :- <catboost.core.CatBoostClassifier object at 0x7f29e6bf7410>\n"
     ]
    }
   ],
   "source": [
    "from sklearn.model_selection import train_test_split\n",
    "from sklearn.linear_model import LogisticRegression\n",
    "from sklearn.linear_model import RidgeClassifier\n",
    "from sklearn.linear_model import SGDClassifier\n",
    "from sklearn.tree import DecisionTreeClassifier\n",
    "from sklearn.ensemble import RandomForestClassifier\n",
    "from sklearn.ensemble import ExtraTreesClassifier\n",
    "from lightgbm import LGBMClassifier\n",
    "from xgboost import XGBClassifier\n",
    "from catboost import CatBoostClassifier\n",
    "\n",
    "\n",
    "models = [\n",
    "          LogisticRegression(solver = 'liblinear', random_state = 42), \n",
    "          RidgeClassifier(random_state = 42),\n",
    "          SGDClassifier(random_state = 42),\n",
    "          DecisionTreeClassifier(random_state = 42),\n",
    "          RandomForestClassifier(random_state = 42),\n",
    "          ExtraTreesClassifier(random_state = 42),\n",
    "          LGBMClassifier(verbose = -1),\n",
    "          XGBClassifier(verbosity = 0, use_label_encoder = False),\n",
    "          CatBoostClassifier(verbose = 0)\n",
    "]\n",
    "\n",
    "model_names = []           #store the names of all the models.\n",
    "\n",
    "for model in models:\n",
    "    model_names.append(type(model).__name__)\n",
    "    print(f\"{type(model).__name__} :- {model}\")"
   ]
  },
  {
   "cell_type": "markdown",
   "id": "3588f976",
   "metadata": {
    "papermill": {
     "duration": 0.009867,
     "end_time": "2021-07-13T05:04:10.518356",
     "exception": false,
     "start_time": "2021-07-13T05:04:10.508489",
     "status": "completed"
    },
    "tags": []
   },
   "source": [
    "<a id='tag3'></a>\n",
    "## 3. [Using 5-fold cross validation to get accuracy scores](#content-table)\n",
    "- Use stratified k fold to train and get accuracy score\n",
    "- Save all the models in each fold to use later for prediction of test data"
   ]
  },
  {
   "cell_type": "code",
   "execution_count": 4,
   "id": "7d62e393",
   "metadata": {
    "execution": {
     "iopub.execute_input": "2021-07-13T05:04:10.543100Z",
     "iopub.status.busy": "2021-07-13T05:04:10.542475Z",
     "iopub.status.idle": "2021-07-13T05:04:10.554928Z",
     "shell.execute_reply": "2021-07-13T05:04:10.555370Z",
     "shell.execute_reply.started": "2021-07-13T04:56:21.300931Z"
    },
    "papermill": {
     "duration": 0.027193,
     "end_time": "2021-07-13T05:04:10.555537",
     "exception": false,
     "start_time": "2021-07-13T05:04:10.528344",
     "status": "completed"
    },
    "tags": []
   },
   "outputs": [],
   "source": [
    "# Get the feature and target data\n",
    "X = train.drop('Survived', axis = 1)\n",
    "y = train['Survived'].copy()"
   ]
  },
  {
   "cell_type": "code",
   "execution_count": 5,
   "id": "e8f43f1c",
   "metadata": {
    "execution": {
     "iopub.execute_input": "2021-07-13T05:04:10.586327Z",
     "iopub.status.busy": "2021-07-13T05:04:10.585682Z",
     "iopub.status.idle": "2021-07-13T05:08:48.274748Z",
     "shell.execute_reply": "2021-07-13T05:08:48.275256Z",
     "shell.execute_reply.started": "2021-07-13T04:58:28.690753Z"
    },
    "papermill": {
     "duration": 277.709638,
     "end_time": "2021-07-13T05:08:48.275436",
     "exception": false,
     "start_time": "2021-07-13T05:04:10.565798",
     "status": "completed"
    },
    "tags": []
   },
   "outputs": [
    {
     "name": "stdout",
     "output_type": "stream",
     "text": [
      "\n",
      "Training LogisticRegression : \n",
      "Fold : 0, Accuracy : 0.77665\n",
      "Fold : 1, Accuracy : 0.77905\n",
      "Fold : 2, Accuracy : 0.77595\n",
      "Fold : 3, Accuracy : 0.77245\n",
      "Fold : 4, Accuracy : 0.77195\n",
      "Average accuracy :  0.7752,  Average time taken per fold:  0.716 s\n",
      "\n",
      "Training RidgeClassifier : \n",
      "Fold : 0, Accuracy : 0.775\n",
      "Fold : 1, Accuracy : 0.7772\n",
      "Fold : 2, Accuracy : 0.7742\n",
      "Fold : 3, Accuracy : 0.77275\n",
      "Fold : 4, Accuracy : 0.771\n",
      "Average accuracy :  0.7740,  Average time taken per fold:  0.157 s\n",
      "\n",
      "Training SGDClassifier : \n",
      "Fold : 0, Accuracy : 0.69115\n",
      "Fold : 1, Accuracy : 0.70845\n",
      "Fold : 2, Accuracy : 0.6806\n",
      "Fold : 3, Accuracy : 0.69755\n",
      "Fold : 4, Accuracy : 0.76455\n",
      "Average accuracy :  0.7085,  Average time taken per fold:  3.105 s\n",
      "\n",
      "Training DecisionTreeClassifier : \n",
      "Fold : 0, Accuracy : 0.6897\n",
      "Fold : 1, Accuracy : 0.68965\n",
      "Fold : 2, Accuracy : 0.69395\n",
      "Fold : 3, Accuracy : 0.69175\n",
      "Fold : 4, Accuracy : 0.69155\n",
      "Average accuracy :  0.6913,  Average time taken per fold:  0.582 s\n",
      "\n",
      "Training RandomForestClassifier : \n",
      "Fold : 0, Accuracy : 0.74165\n",
      "Fold : 1, Accuracy : 0.74285\n",
      "Fold : 2, Accuracy : 0.73885\n",
      "Fold : 3, Accuracy : 0.7392\n",
      "Fold : 4, Accuracy : 0.7407\n",
      "Average accuracy :  0.7406,  Average time taken per fold:  13.151 s\n",
      "\n",
      "Training ExtraTreesClassifier : \n",
      "Fold : 0, Accuracy : 0.7202\n",
      "Fold : 1, Accuracy : 0.7249\n",
      "Fold : 2, Accuracy : 0.7227\n",
      "Fold : 3, Accuracy : 0.71875\n",
      "Fold : 4, Accuracy : 0.7194\n",
      "Average accuracy :  0.7212,  Average time taken per fold:  13.560 s\n",
      "\n",
      "Training LGBMClassifier : \n",
      "Fold : 0, Accuracy : 0.78015\n",
      "Fold : 1, Accuracy : 0.7829\n",
      "Fold : 2, Accuracy : 0.7786\n",
      "Fold : 3, Accuracy : 0.7805\n",
      "Fold : 4, Accuracy : 0.77735\n",
      "Average accuracy :  0.7799,  Average time taken per fold:  0.636 s\n",
      "\n",
      "Training XGBClassifier : \n",
      "Fold : 0, Accuracy : 0.77965\n",
      "Fold : 1, Accuracy : 0.7812\n",
      "Fold : 2, Accuracy : 0.77745\n",
      "Fold : 3, Accuracy : 0.7768\n",
      "Fold : 4, Accuracy : 0.7733\n",
      "Average accuracy :  0.7777,  Average time taken per fold:  5.044 s\n",
      "\n",
      "Training CatBoostClassifier : \n",
      "Fold : 0, Accuracy : 0.7797\n",
      "Fold : 1, Accuracy : 0.7819\n",
      "Fold : 2, Accuracy : 0.7784\n",
      "Fold : 3, Accuracy : 0.77975\n",
      "Fold : 4, Accuracy : 0.7761\n",
      "Average accuracy :  0.7792,  Average time taken per fold:  18.582 s\n"
     ]
    }
   ],
   "source": [
    "from sklearn.model_selection import StratifiedKFold\n",
    "from sklearn.metrics import accuracy_score\n",
    "import joblib\n",
    "import time\n",
    "\n",
    "accuracy = []  \n",
    "time_taken = []\n",
    "\n",
    "for model in models:\n",
    "    \n",
    "    print(f\"\\nTraining {type(model).__name__} : \")\n",
    "       \n",
    "    skf = StratifiedKFold(n_splits = 5, shuffle = True, random_state = 42)\n",
    "\n",
    "    acc = 0\n",
    "    \n",
    "    start = time.time()\n",
    "\n",
    "    for fold, (train_idx, valid_idx) in enumerate(skf.split(X, y)):\n",
    "        X_train, X_valid = X.iloc[train_idx, :], X.iloc[valid_idx, :]\n",
    "        y_train, y_valid = y.iloc[train_idx], y.iloc[valid_idx]\n",
    "        model.fit(X_train.values, y_train)\n",
    "        y_pred = model.predict(X_valid.values)\n",
    "        acc += accuracy_score(y_valid, y_pred)\n",
    "        \n",
    "        print(f\"Fold : {fold}, Accuracy : {accuracy_score(y_valid, y_pred)}\")\n",
    "        joblib.dump(model, f\"base_{type(model).__name__}_{fold}\")        # save all the models\n",
    "    \n",
    "    end = time.time()\n",
    "    \n",
    "    time_taken.append((end-start)/5)  \n",
    "    accuracy.append(acc/5*100)                # get the average accuracy of 5 folds\n",
    "    \n",
    "    print(f\"Average accuracy : {acc/5: 0.4f},  Average time taken per fold: {(end-start)/5: 0.3f} s\")"
   ]
  },
  {
   "cell_type": "markdown",
   "id": "e4f74754",
   "metadata": {
    "papermill": {
     "duration": 0.020471,
     "end_time": "2021-07-13T05:08:48.316147",
     "exception": false,
     "start_time": "2021-07-13T05:08:48.295676",
     "status": "completed"
    },
    "tags": []
   },
   "source": [
    "<a id='tag4'></a>\n",
    "## 4) [Print accuracy values](#content-table)\n",
    "- Print accuracy values in descending order"
   ]
  },
  {
   "cell_type": "code",
   "execution_count": 6,
   "id": "60db19e2",
   "metadata": {
    "execution": {
     "iopub.execute_input": "2021-07-13T05:08:48.367321Z",
     "iopub.status.busy": "2021-07-13T05:08:48.366658Z",
     "iopub.status.idle": "2021-07-13T05:08:48.381051Z",
     "shell.execute_reply": "2021-07-13T05:08:48.380549Z",
     "shell.execute_reply.started": "2021-07-13T05:03:20.925790Z"
    },
    "papermill": {
     "duration": 0.044138,
     "end_time": "2021-07-13T05:08:48.381195",
     "exception": false,
     "start_time": "2021-07-13T05:08:48.337057",
     "status": "completed"
    },
    "tags": []
   },
   "outputs": [
    {
     "data": {
      "text/html": [
       "<div>\n",
       "<style scoped>\n",
       "    .dataframe tbody tr th:only-of-type {\n",
       "        vertical-align: middle;\n",
       "    }\n",
       "\n",
       "    .dataframe tbody tr th {\n",
       "        vertical-align: top;\n",
       "    }\n",
       "\n",
       "    .dataframe thead th {\n",
       "        text-align: right;\n",
       "    }\n",
       "</style>\n",
       "<table border=\"1\" class=\"dataframe\">\n",
       "  <thead>\n",
       "    <tr style=\"text-align: right;\">\n",
       "      <th></th>\n",
       "      <th>Model</th>\n",
       "      <th>Accuracy</th>\n",
       "      <th>Time per fold</th>\n",
       "    </tr>\n",
       "  </thead>\n",
       "  <tbody>\n",
       "    <tr>\n",
       "      <th>1</th>\n",
       "      <td>LGBMClassifier</td>\n",
       "      <td>77.990</td>\n",
       "      <td>0.636119</td>\n",
       "    </tr>\n",
       "    <tr>\n",
       "      <th>2</th>\n",
       "      <td>CatBoostClassifier</td>\n",
       "      <td>77.917</td>\n",
       "      <td>18.582003</td>\n",
       "    </tr>\n",
       "    <tr>\n",
       "      <th>3</th>\n",
       "      <td>XGBClassifier</td>\n",
       "      <td>77.768</td>\n",
       "      <td>5.043561</td>\n",
       "    </tr>\n",
       "    <tr>\n",
       "      <th>4</th>\n",
       "      <td>LogisticRegression</td>\n",
       "      <td>77.521</td>\n",
       "      <td>0.715711</td>\n",
       "    </tr>\n",
       "    <tr>\n",
       "      <th>5</th>\n",
       "      <td>RidgeClassifier</td>\n",
       "      <td>77.403</td>\n",
       "      <td>0.157305</td>\n",
       "    </tr>\n",
       "    <tr>\n",
       "      <th>6</th>\n",
       "      <td>RandomForestClassifier</td>\n",
       "      <td>74.065</td>\n",
       "      <td>13.151040</td>\n",
       "    </tr>\n",
       "    <tr>\n",
       "      <th>7</th>\n",
       "      <td>ExtraTreesClassifier</td>\n",
       "      <td>72.119</td>\n",
       "      <td>13.560322</td>\n",
       "    </tr>\n",
       "    <tr>\n",
       "      <th>8</th>\n",
       "      <td>SGDClassifier</td>\n",
       "      <td>70.846</td>\n",
       "      <td>3.104784</td>\n",
       "    </tr>\n",
       "    <tr>\n",
       "      <th>9</th>\n",
       "      <td>DecisionTreeClassifier</td>\n",
       "      <td>69.132</td>\n",
       "      <td>0.582150</td>\n",
       "    </tr>\n",
       "  </tbody>\n",
       "</table>\n",
       "</div>"
      ],
      "text/plain": [
       "                    Model  Accuracy  Time per fold\n",
       "1          LGBMClassifier    77.990       0.636119\n",
       "2      CatBoostClassifier    77.917      18.582003\n",
       "3           XGBClassifier    77.768       5.043561\n",
       "4      LogisticRegression    77.521       0.715711\n",
       "5         RidgeClassifier    77.403       0.157305\n",
       "6  RandomForestClassifier    74.065      13.151040\n",
       "7    ExtraTreesClassifier    72.119      13.560322\n",
       "8           SGDClassifier    70.846       3.104784\n",
       "9  DecisionTreeClassifier    69.132       0.582150"
      ]
     },
     "execution_count": 6,
     "metadata": {},
     "output_type": "execute_result"
    }
   ],
   "source": [
    "df = pd.DataFrame()\n",
    "df['Model'] = model_names\n",
    "df['Accuracy'] = accuracy\n",
    "df['Time per fold'] = time_taken\n",
    "_ = df.sort_values('Accuracy', ascending = False).reset_index(drop = True)\n",
    "_.index+=1\n",
    "_"
   ]
  },
  {
   "cell_type": "markdown",
   "id": "bab15a76",
   "metadata": {
    "papermill": {
     "duration": 0.020264,
     "end_time": "2021-07-13T05:08:48.422471",
     "exception": false,
     "start_time": "2021-07-13T05:08:48.402207",
     "status": "completed"
    },
    "tags": []
   },
   "source": [
    "<a id='tag5'></a>\n",
    "## 5) [Use best model to predict on test data](#content-table)\n",
    "- Load the best model \n",
    "- Predict on test data"
   ]
  },
  {
   "cell_type": "code",
   "execution_count": 7,
   "id": "9166439f",
   "metadata": {
    "execution": {
     "iopub.execute_input": "2021-07-13T05:08:48.470027Z",
     "iopub.status.busy": "2021-07-13T05:08:48.469327Z",
     "iopub.status.idle": "2021-07-13T05:08:49.547251Z",
     "shell.execute_reply": "2021-07-13T05:08:49.546490Z",
     "shell.execute_reply.started": "2021-07-13T05:03:28.760942Z"
    },
    "papermill": {
     "duration": 1.10452,
     "end_time": "2021-07-13T05:08:49.547432",
     "exception": false,
     "start_time": "2021-07-13T05:08:48.442912",
     "status": "completed"
    },
    "tags": []
   },
   "outputs": [
    {
     "name": "stdout",
     "output_type": "stream",
     "text": [
      "Predicting using LGBMClassifier...\n",
      "Predictions saved.\n"
     ]
    }
   ],
   "source": [
    "model_name = model_names[np.argmax(accuracy)]\n",
    "print(f\"Predicting using {model_name}...\")\n",
    "\n",
    "preds = []\n",
    "\n",
    "for fold in range(5):\n",
    "    model = joblib.load(f\"base_{model_name}_{fold}\")\n",
    "    preds.append(model.predict_proba(test.values)[:, 1])\n",
    "\n",
    "preds = np.mean(preds, axis = 0)    # Average probabilities of 5 models\n",
    "y_pred = np.where(preds>0.5, 1, 0)  # Predictions\n",
    "\n",
    "print(\"Predictions saved.\")"
   ]
  },
  {
   "cell_type": "markdown",
   "id": "dfc85651",
   "metadata": {
    "papermill": {
     "duration": 0.020969,
     "end_time": "2021-07-13T05:08:49.589846",
     "exception": false,
     "start_time": "2021-07-13T05:08:49.568877",
     "status": "completed"
    },
    "tags": []
   },
   "source": [
    "<a id='tag6'></a>\n",
    "## 5) [Submit your prediction](#content-table)"
   ]
  },
  {
   "cell_type": "code",
   "execution_count": 8,
   "id": "3271375b",
   "metadata": {
    "execution": {
     "iopub.execute_input": "2021-07-13T05:08:49.635142Z",
     "iopub.status.busy": "2021-07-13T05:08:49.634274Z",
     "iopub.status.idle": "2021-07-13T05:08:49.773037Z",
     "shell.execute_reply": "2021-07-13T05:08:49.773453Z",
     "shell.execute_reply.started": "2021-07-13T05:03:35.873009Z"
    },
    "papermill": {
     "duration": 0.162692,
     "end_time": "2021-07-13T05:08:49.773630",
     "exception": false,
     "start_time": "2021-07-13T05:08:49.610938",
     "status": "completed"
    },
    "tags": []
   },
   "outputs": [
    {
     "data": {
      "text/html": [
       "<div>\n",
       "<style scoped>\n",
       "    .dataframe tbody tr th:only-of-type {\n",
       "        vertical-align: middle;\n",
       "    }\n",
       "\n",
       "    .dataframe tbody tr th {\n",
       "        vertical-align: top;\n",
       "    }\n",
       "\n",
       "    .dataframe thead th {\n",
       "        text-align: right;\n",
       "    }\n",
       "</style>\n",
       "<table border=\"1\" class=\"dataframe\">\n",
       "  <thead>\n",
       "    <tr style=\"text-align: right;\">\n",
       "      <th></th>\n",
       "      <th>PassengerId</th>\n",
       "      <th>Survived</th>\n",
       "    </tr>\n",
       "  </thead>\n",
       "  <tbody>\n",
       "    <tr>\n",
       "      <th>0</th>\n",
       "      <td>100000</td>\n",
       "      <td>0</td>\n",
       "    </tr>\n",
       "    <tr>\n",
       "      <th>1</th>\n",
       "      <td>100001</td>\n",
       "      <td>1</td>\n",
       "    </tr>\n",
       "    <tr>\n",
       "      <th>2</th>\n",
       "      <td>100002</td>\n",
       "      <td>1</td>\n",
       "    </tr>\n",
       "    <tr>\n",
       "      <th>3</th>\n",
       "      <td>100003</td>\n",
       "      <td>0</td>\n",
       "    </tr>\n",
       "    <tr>\n",
       "      <th>4</th>\n",
       "      <td>100004</td>\n",
       "      <td>1</td>\n",
       "    </tr>\n",
       "    <tr>\n",
       "      <th>...</th>\n",
       "      <td>...</td>\n",
       "      <td>...</td>\n",
       "    </tr>\n",
       "    <tr>\n",
       "      <th>99995</th>\n",
       "      <td>199995</td>\n",
       "      <td>1</td>\n",
       "    </tr>\n",
       "    <tr>\n",
       "      <th>99996</th>\n",
       "      <td>199996</td>\n",
       "      <td>0</td>\n",
       "    </tr>\n",
       "    <tr>\n",
       "      <th>99997</th>\n",
       "      <td>199997</td>\n",
       "      <td>0</td>\n",
       "    </tr>\n",
       "    <tr>\n",
       "      <th>99998</th>\n",
       "      <td>199998</td>\n",
       "      <td>1</td>\n",
       "    </tr>\n",
       "    <tr>\n",
       "      <th>99999</th>\n",
       "      <td>199999</td>\n",
       "      <td>1</td>\n",
       "    </tr>\n",
       "  </tbody>\n",
       "</table>\n",
       "<p>100000 rows × 2 columns</p>\n",
       "</div>"
      ],
      "text/plain": [
       "       PassengerId  Survived\n",
       "0           100000         0\n",
       "1           100001         1\n",
       "2           100002         1\n",
       "3           100003         0\n",
       "4           100004         1\n",
       "...            ...       ...\n",
       "99995       199995         1\n",
       "99996       199996         0\n",
       "99997       199997         0\n",
       "99998       199998         1\n",
       "99999       199999         1\n",
       "\n",
       "[100000 rows x 2 columns]"
      ]
     },
     "execution_count": 8,
     "metadata": {},
     "output_type": "execute_result"
    }
   ],
   "source": [
    "submission.loc[:, 'Survived'] = y_pred\n",
    "submission.to_csv('submission_base_models.csv', index = False)\n",
    "pd.read_csv(\"submission_base_models.csv\")"
   ]
  },
  {
   "cell_type": "markdown",
   "id": "44360ec0",
   "metadata": {
    "papermill": {
     "duration": 0.021292,
     "end_time": "2021-07-13T05:08:49.816058",
     "exception": false,
     "start_time": "2021-07-13T05:08:49.794766",
     "status": "completed"
    },
    "tags": []
   },
   "source": [
    "______________"
   ]
  }
 ],
 "metadata": {
  "kernelspec": {
   "display_name": "Python 3",
   "language": "python",
   "name": "python3"
  },
  "language_info": {
   "codemirror_mode": {
    "name": "ipython",
    "version": 3
   },
   "file_extension": ".py",
   "mimetype": "text/x-python",
   "name": "python",
   "nbconvert_exporter": "python",
   "pygments_lexer": "ipython3",
   "version": "3.7.10"
  },
  "papermill": {
   "default_parameters": {},
   "duration": 292.910817,
   "end_time": "2021-07-13T05:08:51.589880",
   "environment_variables": {},
   "exception": null,
   "input_path": "__notebook__.ipynb",
   "output_path": "__notebook__.ipynb",
   "parameters": {},
   "start_time": "2021-07-13T05:03:58.679063",
   "version": "2.3.3"
  }
 },
 "nbformat": 4,
 "nbformat_minor": 5
}
