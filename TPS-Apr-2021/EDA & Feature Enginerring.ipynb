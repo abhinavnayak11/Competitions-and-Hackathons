{
 "cells": [
  {
   "cell_type": "markdown",
   "id": "e79e2ec8",
   "metadata": {
    "papermill": {
     "duration": 0.027512,
     "end_time": "2021-07-10T11:35:22.350301",
     "exception": false,
     "start_time": "2021-07-10T11:35:22.322789",
     "status": "completed"
    },
    "tags": []
   },
   "source": [
    "______________________\n",
    "# Summary\n",
    "#### The aim of this notebook is to do Exploratory Data Analysis and as a result create 2 new promising features which are `Target_Class` and `Cabin_filled`. This notebook contains 4 insights into the data which are informative and helpful. \n",
    "#### Styling of the graphs drawn below were inspired from this [notebook](https://www.kaggle.com/dwin183287/tps-jan-2021-eda-models). Those graphs are on another level. Thanks [Sharlto Cope](https://www.kaggle.com/dwin183287)\n",
    "#### My previous notebook in this series : [Making first submission for baseline score (0.788)](https://www.kaggle.com/abhinavnayak/making-first-submission-for-baseline-score-0-788)\n",
    "\n",
    "<a id='content-table'></a>\n",
    "## Table of Contents\n",
    "1. [Looking at the null values](#tag1)\n",
    "2. [Insight-1 : Survival rate among different classes in a column](#tag2)   \n",
    "    - [`Pclass`](#tag2a)   \n",
    "    - [`Sex`](#tag2b)   \n",
    "    - [`SibSp`](#tag2c)   \n",
    "    - [`Parch`](#tag2d)   \n",
    "3. [Insight-2 : The `Ticket` column & creating new feature `Ticket_class`](#tag3)   \n",
    "    - [Insight-1](#tag3a)    \n",
    "    - [Insight-2](#tag3b)    \n",
    "    - [Creating `Ticket_class` column](#tag3c)    \n",
    "4. [Insight-3 : The `Cabin` column & creating new feature `Cabin_filled`](#tag4)\n",
    "5. [Insight-4 : Corelation between `Fare` & `Pclass`](#tag5)"
   ]
  },
  {
   "cell_type": "code",
   "execution_count": 1,
   "id": "b936d6f2",
   "metadata": {
    "execution": {
     "iopub.execute_input": "2021-07-10T11:35:22.416319Z",
     "iopub.status.busy": "2021-07-10T11:35:22.415648Z",
     "iopub.status.idle": "2021-07-10T11:35:23.409214Z",
     "shell.execute_reply": "2021-07-10T11:35:23.408383Z",
     "shell.execute_reply.started": "2021-07-10T11:33:35.435316Z"
    },
    "papermill": {
     "duration": 1.032397,
     "end_time": "2021-07-10T11:35:23.409377",
     "exception": false,
     "start_time": "2021-07-10T11:35:22.376980",
     "status": "completed"
    },
    "tags": []
   },
   "outputs": [],
   "source": [
    "import numpy as np \n",
    "import pandas as pd\n",
    "import matplotlib.pyplot as plt\n",
    "import seaborn as sns"
   ]
  },
  {
   "cell_type": "code",
   "execution_count": 2,
   "id": "95a06d6b",
   "metadata": {
    "execution": {
     "iopub.execute_input": "2021-07-10T11:35:23.468652Z",
     "iopub.status.busy": "2021-07-10T11:35:23.467790Z",
     "iopub.status.idle": "2021-07-10T11:35:24.130840Z",
     "shell.execute_reply": "2021-07-10T11:35:24.131413Z",
     "shell.execute_reply.started": "2021-07-10T11:33:38.112681Z"
    },
    "papermill": {
     "duration": 0.695626,
     "end_time": "2021-07-10T11:35:24.131585",
     "exception": false,
     "start_time": "2021-07-10T11:35:23.435959",
     "status": "completed"
    },
    "tags": []
   },
   "outputs": [
    {
     "name": "stdout",
     "output_type": "stream",
     "text": [
      "(100000, 12) (100000, 11) (100000, 2)\n",
      "Index(['PassengerId', 'Survived', 'Pclass', 'Name', 'Sex', 'Age', 'SibSp',\n",
      "       'Parch', 'Ticket', 'Fare', 'Cabin', 'Embarked'],\n",
      "      dtype='object')\n",
      "{'Survived'}\n"
     ]
    }
   ],
   "source": [
    "train = pd.read_csv('/kaggle/input/tabular-playground-series-apr-2021/train.csv')\n",
    "test = pd.read_csv('/kaggle/input/tabular-playground-series-apr-2021/test.csv')\n",
    "submission = pd.read_csv('/kaggle/input/tabular-playground-series-apr-2021/sample_submission.csv')\n",
    "\n",
    "print(train.shape, test.shape, submission.shape)\n",
    "print(train.columns)                             #printing the column names\n",
    "print(set(train.columns)-set(test.columns))      #printing the target column"
   ]
  },
  {
   "cell_type": "code",
   "execution_count": 3,
   "id": "e0ec9324",
   "metadata": {
    "execution": {
     "iopub.execute_input": "2021-07-10T11:35:24.197481Z",
     "iopub.status.busy": "2021-07-10T11:35:24.196777Z",
     "iopub.status.idle": "2021-07-10T11:35:24.230106Z",
     "shell.execute_reply": "2021-07-10T11:35:24.229486Z",
     "shell.execute_reply.started": "2021-07-10T11:33:40.963266Z"
    },
    "papermill": {
     "duration": 0.069828,
     "end_time": "2021-07-10T11:35:24.230263",
     "exception": false,
     "start_time": "2021-07-10T11:35:24.160435",
     "status": "completed"
    },
    "tags": []
   },
   "outputs": [
    {
     "data": {
      "text/html": [
       "<div>\n",
       "<style scoped>\n",
       "    .dataframe tbody tr th:only-of-type {\n",
       "        vertical-align: middle;\n",
       "    }\n",
       "\n",
       "    .dataframe tbody tr th {\n",
       "        vertical-align: top;\n",
       "    }\n",
       "\n",
       "    .dataframe thead th {\n",
       "        text-align: right;\n",
       "    }\n",
       "</style>\n",
       "<table border=\"1\" class=\"dataframe\">\n",
       "  <thead>\n",
       "    <tr style=\"text-align: right;\">\n",
       "      <th></th>\n",
       "      <th>PassengerId</th>\n",
       "      <th>Survived</th>\n",
       "      <th>Pclass</th>\n",
       "      <th>Name</th>\n",
       "      <th>Sex</th>\n",
       "      <th>Age</th>\n",
       "      <th>SibSp</th>\n",
       "      <th>Parch</th>\n",
       "      <th>Ticket</th>\n",
       "      <th>Fare</th>\n",
       "      <th>Cabin</th>\n",
       "      <th>Embarked</th>\n",
       "    </tr>\n",
       "  </thead>\n",
       "  <tbody>\n",
       "    <tr>\n",
       "      <th>0</th>\n",
       "      <td>0</td>\n",
       "      <td>1</td>\n",
       "      <td>1</td>\n",
       "      <td>Oconnor, Frankie</td>\n",
       "      <td>male</td>\n",
       "      <td>NaN</td>\n",
       "      <td>2</td>\n",
       "      <td>0</td>\n",
       "      <td>209245</td>\n",
       "      <td>27.14</td>\n",
       "      <td>C12239</td>\n",
       "      <td>S</td>\n",
       "    </tr>\n",
       "    <tr>\n",
       "      <th>1</th>\n",
       "      <td>1</td>\n",
       "      <td>0</td>\n",
       "      <td>3</td>\n",
       "      <td>Bryan, Drew</td>\n",
       "      <td>male</td>\n",
       "      <td>NaN</td>\n",
       "      <td>0</td>\n",
       "      <td>0</td>\n",
       "      <td>27323</td>\n",
       "      <td>13.35</td>\n",
       "      <td>NaN</td>\n",
       "      <td>S</td>\n",
       "    </tr>\n",
       "    <tr>\n",
       "      <th>2</th>\n",
       "      <td>2</td>\n",
       "      <td>0</td>\n",
       "      <td>3</td>\n",
       "      <td>Owens, Kenneth</td>\n",
       "      <td>male</td>\n",
       "      <td>0.33</td>\n",
       "      <td>1</td>\n",
       "      <td>2</td>\n",
       "      <td>CA 457703</td>\n",
       "      <td>71.29</td>\n",
       "      <td>NaN</td>\n",
       "      <td>S</td>\n",
       "    </tr>\n",
       "    <tr>\n",
       "      <th>3</th>\n",
       "      <td>3</td>\n",
       "      <td>0</td>\n",
       "      <td>3</td>\n",
       "      <td>Kramer, James</td>\n",
       "      <td>male</td>\n",
       "      <td>19.00</td>\n",
       "      <td>0</td>\n",
       "      <td>0</td>\n",
       "      <td>A. 10866</td>\n",
       "      <td>13.04</td>\n",
       "      <td>NaN</td>\n",
       "      <td>S</td>\n",
       "    </tr>\n",
       "    <tr>\n",
       "      <th>4</th>\n",
       "      <td>4</td>\n",
       "      <td>1</td>\n",
       "      <td>3</td>\n",
       "      <td>Bond, Michael</td>\n",
       "      <td>male</td>\n",
       "      <td>25.00</td>\n",
       "      <td>0</td>\n",
       "      <td>0</td>\n",
       "      <td>427635</td>\n",
       "      <td>7.76</td>\n",
       "      <td>NaN</td>\n",
       "      <td>S</td>\n",
       "    </tr>\n",
       "  </tbody>\n",
       "</table>\n",
       "</div>"
      ],
      "text/plain": [
       "   PassengerId  Survived  Pclass              Name   Sex    Age  SibSp  Parch  \\\n",
       "0            0         1       1  Oconnor, Frankie  male    NaN      2      0   \n",
       "1            1         0       3       Bryan, Drew  male    NaN      0      0   \n",
       "2            2         0       3    Owens, Kenneth  male   0.33      1      2   \n",
       "3            3         0       3     Kramer, James  male  19.00      0      0   \n",
       "4            4         1       3     Bond, Michael  male  25.00      0      0   \n",
       "\n",
       "      Ticket   Fare   Cabin Embarked  \n",
       "0     209245  27.14  C12239        S  \n",
       "1      27323  13.35     NaN        S  \n",
       "2  CA 457703  71.29     NaN        S  \n",
       "3   A. 10866  13.04     NaN        S  \n",
       "4     427635   7.76     NaN        S  "
      ]
     },
     "execution_count": 3,
     "metadata": {},
     "output_type": "execute_result"
    }
   ],
   "source": [
    "train.head()"
   ]
  },
  {
   "cell_type": "markdown",
   "id": "654aa184",
   "metadata": {
    "papermill": {
     "duration": 0.028058,
     "end_time": "2021-07-10T11:35:24.285910",
     "exception": false,
     "start_time": "2021-07-10T11:35:24.257852",
     "status": "completed"
    },
    "tags": []
   },
   "source": [
    "<a id='tag1'></a>\n",
    "## 1) [Looking at the null values](#content-table)\n",
    "\n",
    "It is always helpful to remember which columns have very high percentage of null values. This will help you in [Insight-3](#tag4)"
   ]
  },
  {
   "cell_type": "code",
   "execution_count": 4,
   "id": "8e9abcd4",
   "metadata": {
    "execution": {
     "iopub.execute_input": "2021-07-10T11:35:24.347931Z",
     "iopub.status.busy": "2021-07-10T11:35:24.347312Z",
     "iopub.status.idle": "2021-07-10T11:35:24.429864Z",
     "shell.execute_reply": "2021-07-10T11:35:24.429086Z",
     "shell.execute_reply.started": "2021-07-10T11:33:43.069019Z"
    },
    "papermill": {
     "duration": 0.11622,
     "end_time": "2021-07-10T11:35:24.430005",
     "exception": false,
     "start_time": "2021-07-10T11:35:24.313785",
     "status": "completed"
    },
    "tags": []
   },
   "outputs": [
    {
     "data": {
      "text/plain": [
       "PassengerId     0.000\n",
       "Survived        0.000\n",
       "Pclass          0.000\n",
       "Name            0.000\n",
       "Sex             0.000\n",
       "Age             3.292\n",
       "SibSp           0.000\n",
       "Parch           0.000\n",
       "Ticket          4.623\n",
       "Fare            0.134\n",
       "Cabin          67.866\n",
       "Embarked        0.250\n",
       "dtype: float64"
      ]
     },
     "execution_count": 4,
     "metadata": {},
     "output_type": "execute_result"
    }
   ],
   "source": [
    "df = train.isnull().sum()/len(train)*100\n",
    "df"
   ]
  },
  {
   "cell_type": "code",
   "execution_count": 5,
   "id": "5be074f7",
   "metadata": {
    "_kg_hide-input": true,
    "execution": {
     "iopub.execute_input": "2021-07-10T11:35:24.489886Z",
     "iopub.status.busy": "2021-07-10T11:35:24.489253Z",
     "iopub.status.idle": "2021-07-10T11:35:24.763350Z",
     "shell.execute_reply": "2021-07-10T11:35:24.762850Z",
     "shell.execute_reply.started": "2021-07-10T11:33:44.890585Z"
    },
    "papermill": {
     "duration": 0.304721,
     "end_time": "2021-07-10T11:35:24.763519",
     "exception": false,
     "start_time": "2021-07-10T11:35:24.458798",
     "status": "completed"
    },
    "tags": []
   },
   "outputs": [
    {
     "data": {
      "image/png": "[encoded data removed]",
      "text/plain": [
       "<Figure size 648x360 with 1 Axes>"
      ]
     },
     "metadata": {},
     "output_type": "display_data"
    }
   ],
   "source": [
    "plt.figure(figsize = (9,5), facecolor='#f6f6f6')\n",
    "sns.barplot(x = df.values, y = list(df.index), color='#ffd514')\n",
    "plt.title('% Missing values')\n",
    "\n",
    "ax = plt.gca()\n",
    "ax.set_facecolor('#f6f6f6')\n",
    "for s in [\"top\", \"right\"]:\n",
    "    ax.spines[s].set_visible(False)"
   ]
  },
  {
   "cell_type": "markdown",
   "id": "8939d33e",
   "metadata": {
    "papermill": {
     "duration": 0.028417,
     "end_time": "2021-07-10T11:35:24.820811",
     "exception": false,
     "start_time": "2021-07-10T11:35:24.792394",
     "status": "completed"
    },
    "tags": []
   },
   "source": [
    "<a id='tag2'></a>\n",
    "## 2) [Insight-1 : Survival rate among different classes in a column](#content-table)\n",
    "\n",
    "I compared the survival rate for each type in a given column. This is done for categorical classes i.e `Pclass`,`Sex`, `SibSp`, `Parch`"
   ]
  },
  {
   "cell_type": "markdown",
   "id": "1d21c403",
   "metadata": {
    "papermill": {
     "duration": 0.028123,
     "end_time": "2021-07-10T11:35:24.877523",
     "exception": false,
     "start_time": "2021-07-10T11:35:24.849400",
     "status": "completed"
    },
    "tags": []
   },
   "source": [
    "<a id='tag2a'></a>\n",
    "### a) [`Pclass`](#content-table)"
   ]
  },
  {
   "cell_type": "code",
   "execution_count": 6,
   "id": "eba14a05",
   "metadata": {
    "execution": {
     "iopub.execute_input": "2021-07-10T11:35:24.942989Z",
     "iopub.status.busy": "2021-07-10T11:35:24.942368Z",
     "iopub.status.idle": "2021-07-10T11:35:24.954302Z",
     "shell.execute_reply": "2021-07-10T11:35:24.953787Z",
     "shell.execute_reply.started": "2021-07-10T11:33:48.763627Z"
    },
    "papermill": {
     "duration": 0.048415,
     "end_time": "2021-07-10T11:35:24.954443",
     "exception": false,
     "start_time": "2021-07-10T11:35:24.906028",
     "status": "completed"
    },
    "tags": []
   },
   "outputs": [
    {
     "data": {
      "text/plain": [
       "Pclass\n",
       "1     57.98 % (17576/30315) Survived\n",
       "2     52.50 % (15057/28679) Survived\n",
       "3     24.73 % (10141/41006) Survived\n",
       "Name: Survived, dtype: object"
      ]
     },
     "execution_count": 6,
     "metadata": {},
     "output_type": "execute_result"
    }
   ],
   "source": [
    "train.groupby('Pclass')['Survived'].apply(lambda x: f'{x.sum()/len(x)*100: 0.2f} % ({x.sum()}/{len(x)}) Survived')"
   ]
  },
  {
   "cell_type": "code",
   "execution_count": 7,
   "id": "6dc69c4e",
   "metadata": {
    "_kg_hide-input": true,
    "execution": {
     "iopub.execute_input": "2021-07-10T11:35:25.019799Z",
     "iopub.status.busy": "2021-07-10T11:35:25.015115Z",
     "iopub.status.idle": "2021-07-10T11:35:25.155116Z",
     "shell.execute_reply": "2021-07-10T11:35:25.154624Z",
     "shell.execute_reply.started": "2021-07-10T11:33:59.189347Z"
    },
    "papermill": {
     "duration": 0.171661,
     "end_time": "2021-07-10T11:35:25.155278",
     "exception": false,
     "start_time": "2021-07-10T11:35:24.983617",
     "status": "completed"
    },
    "tags": []
   },
   "outputs": [
    {
     "data": {
      "image/png": "[encoded data removed]",
      "text/plain": [
       "<Figure size 288x360 with 1 Axes>"
      ]
     },
     "metadata": {},
     "output_type": "display_data"
    }
   ],
   "source": [
    "df = train.groupby('Pclass')['Survived'].apply(lambda x: x.sum()/len(x)*100)\n",
    "\n",
    "plt.figure(figsize = (4,5), facecolor='#f6f6f6')\n",
    "sns.barplot(x = list(df.index), y = df.values, color='#ffd514')\n",
    "plt.title(\"% Survival Rate - [PClass]\")\n",
    "\n",
    "ax = plt.gca()\n",
    "ax.set_facecolor('#f6f6f6')\n",
    "for s in [\"top\", \"right\"]:\n",
    "    ax.spines[s].set_visible(False)"
   ]
  },
  {
   "cell_type": "markdown",
   "id": "ac63d986",
   "metadata": {
    "papermill": {
     "duration": 0.029178,
     "end_time": "2021-07-10T11:35:25.214157",
     "exception": false,
     "start_time": "2021-07-10T11:35:25.184979",
     "status": "completed"
    },
    "tags": []
   },
   "source": [
    "> ### What does 57.98% mean here?\n",
    "> *Class 1 in `Pclass` has `30315` people of the total `100000` people in train data. Of these `30315`, `17576` people have survived.   \n",
    "> Hence survival rate in class 1 = `17576/30315 = 57.98%`*"
   ]
  },
  {
   "cell_type": "markdown",
   "id": "b59f482c",
   "metadata": {
    "papermill": {
     "duration": 0.029107,
     "end_time": "2021-07-10T11:35:25.273247",
     "exception": false,
     "start_time": "2021-07-10T11:35:25.244140",
     "status": "completed"
    },
    "tags": []
   },
   "source": [
    "3rd class ticket has the least survival rate of all. Therefore `Pclass` has high effect on `Survival`"
   ]
  },
  {
   "cell_type": "markdown",
   "id": "d9e585c0",
   "metadata": {
    "papermill": {
     "duration": 0.029021,
     "end_time": "2021-07-10T11:35:25.332734",
     "exception": false,
     "start_time": "2021-07-10T11:35:25.303713",
     "status": "completed"
    },
    "tags": []
   },
   "source": [
    "<a id='tag2b'></a>\n",
    "### b) [`Sex`](#content-table)"
   ]
  },
  {
   "cell_type": "code",
   "execution_count": 8,
   "id": "e89b925e",
   "metadata": {
    "execution": {
     "iopub.execute_input": "2021-07-10T11:35:25.403928Z",
     "iopub.status.busy": "2021-07-10T11:35:25.402975Z",
     "iopub.status.idle": "2021-07-10T11:35:25.416005Z",
     "shell.execute_reply": "2021-07-10T11:35:25.416484Z",
     "shell.execute_reply.started": "2021-07-10T11:34:06.007793Z"
    },
    "papermill": {
     "duration": 0.054283,
     "end_time": "2021-07-10T11:35:25.416685",
     "exception": false,
     "start_time": "2021-07-10T11:35:25.362402",
     "status": "completed"
    },
    "tags": []
   },
   "outputs": [
    {
     "data": {
      "text/plain": [
       "Sex\n",
       "female     71.15 % (31226/43886) Survived\n",
       "male       20.58 % (11548/56114) Survived\n",
       "Name: Survived, dtype: object"
      ]
     },
     "execution_count": 8,
     "metadata": {},
     "output_type": "execute_result"
    }
   ],
   "source": [
    "train.groupby('Sex')['Survived'].apply(lambda x: f'{x.sum()/len(x)*100: 0.2f} % ({x.sum()}/{len(x)}) Survived')"
   ]
  },
  {
   "cell_type": "code",
   "execution_count": 9,
   "id": "5002096e",
   "metadata": {
    "_kg_hide-input": true,
    "execution": {
     "iopub.execute_input": "2021-07-10T11:35:25.480176Z",
     "iopub.status.busy": "2021-07-10T11:35:25.479510Z",
     "iopub.status.idle": "2021-07-10T11:35:25.619585Z",
     "shell.execute_reply": "2021-07-10T11:35:25.619034Z",
     "shell.execute_reply.started": "2021-07-10T11:34:07.045649Z"
    },
    "papermill": {
     "duration": 0.172855,
     "end_time": "2021-07-10T11:35:25.619729",
     "exception": false,
     "start_time": "2021-07-10T11:35:25.446874",
     "status": "completed"
    },
    "tags": []
   },
   "outputs": [
    {
     "data": {
      "image/png": "[encoded data removed]",
      "text/plain": [
       "<Figure size 288x360 with 1 Axes>"
      ]
     },
     "metadata": {},
     "output_type": "display_data"
    }
   ],
   "source": [
    "df = train.groupby('Sex')['Survived'].apply(lambda x: x.sum()/len(x)*100)\n",
    "\n",
    "plt.figure(figsize = (4,5), facecolor='#f6f6f6')\n",
    "sns.barplot(x = list(df.index), y = df.values, color='#ffd514')\n",
    "plt.title('% Survival Rate - [Sex]')\n",
    "\n",
    "ax = plt.gca()\n",
    "ax.set_facecolor('#f6f6f6')\n",
    "for s in [\"top\", \"right\"]:\n",
    "    ax.spines[s].set_visible(False)"
   ]
  },
  {
   "cell_type": "markdown",
   "id": "4056ed6f",
   "metadata": {
    "papermill": {
     "duration": 0.030319,
     "end_time": "2021-07-10T11:35:25.680875",
     "exception": false,
     "start_time": "2021-07-10T11:35:25.650556",
     "status": "completed"
    },
    "tags": []
   },
   "source": [
    "Female has survival rate of more than 3 times that of male. Therefore `Sex` has high effect on `Survival`"
   ]
  },
  {
   "cell_type": "markdown",
   "id": "caf29800",
   "metadata": {
    "papermill": {
     "duration": 0.030268,
     "end_time": "2021-07-10T11:35:25.742123",
     "exception": false,
     "start_time": "2021-07-10T11:35:25.711855",
     "status": "completed"
    },
    "tags": []
   },
   "source": [
    "<a id='tag2c'></a>\n",
    "### c) [`SibSp`](#content-table)"
   ]
  },
  {
   "cell_type": "code",
   "execution_count": 10,
   "id": "d66f67ef",
   "metadata": {
    "execution": {
     "iopub.execute_input": "2021-07-10T11:35:25.808534Z",
     "iopub.status.busy": "2021-07-10T11:35:25.807903Z",
     "iopub.status.idle": "2021-07-10T11:35:25.819768Z",
     "shell.execute_reply": "2021-07-10T11:35:25.820269Z",
     "shell.execute_reply.started": "2021-07-10T11:34:11.413443Z"
    },
    "papermill": {
     "duration": 0.047878,
     "end_time": "2021-07-10T11:35:25.820434",
     "exception": false,
     "start_time": "2021-07-10T11:35:25.772556",
     "status": "completed"
    },
    "tags": []
   },
   "outputs": [
    {
     "data": {
      "text/plain": [
       "SibSp\n",
       "0     42.68 % (31291/73308) Survived\n",
       "1      43.37 % (8570/19758) Survived\n",
       "2       45.40 % (1681/3703) Survived\n",
       "3        40.00 % (654/1635) Survived\n",
       "4        37.59 % (439/1168) Survived\n",
       "5          18.94 % (25/132) Survived\n",
       "8         38.51 % (114/296) Survived\n",
       "Name: Survived, dtype: object"
      ]
     },
     "execution_count": 10,
     "metadata": {},
     "output_type": "execute_result"
    }
   ],
   "source": [
    "train.groupby('SibSp')['Survived'].apply(lambda x: f'{x.sum()/len(x)*100: 0.2f} % ({x.sum()}/{len(x)}) Survived')"
   ]
  },
  {
   "cell_type": "code",
   "execution_count": 11,
   "id": "f02befb0",
   "metadata": {
    "_kg_hide-input": true,
    "execution": {
     "iopub.execute_input": "2021-07-10T11:35:25.886004Z",
     "iopub.status.busy": "2021-07-10T11:35:25.885050Z",
     "iopub.status.idle": "2021-07-10T11:35:26.056682Z",
     "shell.execute_reply": "2021-07-10T11:35:26.056104Z",
     "shell.execute_reply.started": "2021-07-10T11:34:12.613231Z"
    },
    "papermill": {
     "duration": 0.205403,
     "end_time": "2021-07-10T11:35:26.056828",
     "exception": false,
     "start_time": "2021-07-10T11:35:25.851425",
     "status": "completed"
    },
    "tags": []
   },
   "outputs": [
    {
     "data": {
      "image/png": "[encoded data removed]",
      "text/plain": [
       "<Figure size 648x360 with 1 Axes>"
      ]
     },
     "metadata": {},
     "output_type": "display_data"
    }
   ],
   "source": [
    "df = train.groupby('SibSp')['Survived'].apply(lambda x: x.sum()/len(x)*100)\n",
    "\n",
    "plt.figure(figsize = (9,5), facecolor='#f6f6f6')\n",
    "sns.barplot(x = list(df.index), y = df.values, color='#ffd514')\n",
    "plt.title('% Survival Rate - [SibSp]')\n",
    "\n",
    "ax = plt.gca()\n",
    "ax.set_facecolor('#f6f6f6')\n",
    "for s in [\"top\", \"right\"]:\n",
    "    ax.spines[s].set_visible(False)"
   ]
  },
  {
   "cell_type": "markdown",
   "id": "e1bdbfd3",
   "metadata": {
    "papermill": {
     "duration": 0.032096,
     "end_time": "2021-07-10T11:35:26.121351",
     "exception": false,
     "start_time": "2021-07-10T11:35:26.089255",
     "status": "completed"
    },
    "tags": []
   },
   "source": [
    "<a id='tag2d'></a>\n",
    "### d) [`Parch`](#content-table)"
   ]
  },
  {
   "cell_type": "code",
   "execution_count": 12,
   "id": "e7763c2a",
   "metadata": {
    "execution": {
     "iopub.execute_input": "2021-07-10T11:35:26.192188Z",
     "iopub.status.busy": "2021-07-10T11:35:26.191147Z",
     "iopub.status.idle": "2021-07-10T11:35:26.203973Z",
     "shell.execute_reply": "2021-07-10T11:35:26.203467Z",
     "shell.execute_reply.started": "2021-07-10T11:34:14.260487Z"
    },
    "papermill": {
     "duration": 0.051249,
     "end_time": "2021-07-10T11:35:26.204102",
     "exception": false,
     "start_time": "2021-07-10T11:35:26.152853",
     "status": "completed"
    },
    "tags": []
   },
   "outputs": [
    {
     "data": {
      "text/plain": [
       "Parch\n",
       "0     40.52 % (29799/73540) Survived\n",
       "1      59.20 % (7694/12996) Survived\n",
       "2      38.47 % (4323/11236) Survived\n",
       "3         49.24 % (484/983) Survived\n",
       "4         28.48 % (127/446) Survived\n",
       "5         57.10 % (189/331) Survived\n",
       "6          20.59 % (42/204) Survived\n",
       "9         43.94 % (116/264) Survived\n",
       "Name: Survived, dtype: object"
      ]
     },
     "execution_count": 12,
     "metadata": {},
     "output_type": "execute_result"
    }
   ],
   "source": [
    "train.groupby('Parch')['Survived'].apply(lambda x: f'{x.sum()/len(x)*100: 0.2f} % ({x.sum()}/{len(x)}) Survived')"
   ]
  },
  {
   "cell_type": "code",
   "execution_count": 13,
   "id": "9c727153",
   "metadata": {
    "_kg_hide-input": true,
    "execution": {
     "iopub.execute_input": "2021-07-10T11:35:26.271056Z",
     "iopub.status.busy": "2021-07-10T11:35:26.270457Z",
     "iopub.status.idle": "2021-07-10T11:35:26.457471Z",
     "shell.execute_reply": "2021-07-10T11:35:26.457927Z",
     "shell.execute_reply.started": "2021-07-10T11:34:15.802350Z"
    },
    "papermill": {
     "duration": 0.221951,
     "end_time": "2021-07-10T11:35:26.458096",
     "exception": false,
     "start_time": "2021-07-10T11:35:26.236145",
     "status": "completed"
    },
    "tags": []
   },
   "outputs": [
    {
     "data": {
      "image/png": "[encoded data removed]",
      "text/plain": [
       "<Figure size 648x360 with 1 Axes>"
      ]
     },
     "metadata": {},
     "output_type": "display_data"
    }
   ],
   "source": [
    "df = train.groupby('Parch')['Survived'].apply(lambda x: x.sum()/len(x)*100)\n",
    "\n",
    "plt.figure(figsize = (9,5), facecolor='#f6f6f6')\n",
    "sns.barplot(x = list(df.index), y = df.values, color='#ffd514')\n",
    "plt.title('% Survival Rate - [Parch]')\n",
    "\n",
    "ax = plt.gca()\n",
    "ax.set_facecolor('#f6f6f6')\n",
    "for s in [\"top\", \"right\"]:\n",
    "    ax.spines[s].set_visible(False)"
   ]
  },
  {
   "cell_type": "markdown",
   "id": "d75feaa7",
   "metadata": {
    "papermill": {
     "duration": 0.032639,
     "end_time": "2021-07-10T11:35:26.524062",
     "exception": false,
     "start_time": "2021-07-10T11:35:26.491423",
     "status": "completed"
    },
    "tags": []
   },
   "source": [
    "<a id='tag3'></a>\n",
    "## 3. [Insight-2 : The `Ticket` column & creating new feature `Ticket_class`](#content-table)"
   ]
  },
  {
   "cell_type": "markdown",
   "id": "87264961",
   "metadata": {
    "papermill": {
     "duration": 0.032499,
     "end_time": "2021-07-10T11:35:26.589518",
     "exception": false,
     "start_time": "2021-07-10T11:35:26.557019",
     "status": "completed"
    },
    "tags": []
   },
   "source": [
    "<a id='tag3a'></a>\n",
    "### a) [Insight-1](#content-table)\n",
    "I found that not all values in this column are string. There are some float values"
   ]
  },
  {
   "cell_type": "code",
   "execution_count": 14,
   "id": "f3ccd005",
   "metadata": {
    "execution": {
     "iopub.execute_input": "2021-07-10T11:35:26.658689Z",
     "iopub.status.busy": "2021-07-10T11:35:26.658008Z",
     "iopub.status.idle": "2021-07-10T11:35:26.720734Z",
     "shell.execute_reply": "2021-07-10T11:35:26.720091Z",
     "shell.execute_reply.started": "2021-07-10T11:34:18.735167Z"
    },
    "papermill": {
     "duration": 0.098308,
     "end_time": "2021-07-10T11:35:26.720869",
     "exception": false,
     "start_time": "2021-07-10T11:35:26.622561",
     "status": "completed"
    },
    "tags": []
   },
   "outputs": [
    {
     "data": {
      "text/plain": [
       "<class 'str'>      95377\n",
       "<class 'float'>     4623\n",
       "Name: Ticket, dtype: int64"
      ]
     },
     "execution_count": 14,
     "metadata": {},
     "output_type": "execute_result"
    }
   ],
   "source": [
    "_ = train['Ticket'].apply(lambda x: type(x))\n",
    "_.value_counts()"
   ]
  },
  {
   "cell_type": "markdown",
   "id": "d59c05f3",
   "metadata": {
    "papermill": {
     "duration": 0.033212,
     "end_time": "2021-07-10T11:35:26.787265",
     "exception": false,
     "start_time": "2021-07-10T11:35:26.754053",
     "status": "completed"
    },
    "tags": []
   },
   "source": [
    "<a id='tag3b'></a>\n",
    "### b) [Insight-2](#content-table)\n",
    "Although >66% values are unique in this column, there is a pattern to naming the ticket.\n",
    "I found out 12 types of tickets after doing some EDA.   \n",
    "- Some tickets are just numbers (some of these in float)\n",
    "- Some tickets start with 'A.', 'A/5', 'A/4' etc  \n",
    "- Some tickets start with 'C.A', 'CA' etc  \n",
    "- Some tickets start with 'SC/PARIS', 'SC/Paris', 'SC/AH' etc  \n",
    "and so on..."
   ]
  },
  {
   "cell_type": "code",
   "execution_count": 15,
   "id": "18f10414",
   "metadata": {
    "execution": {
     "iopub.execute_input": "2021-07-10T11:35:26.890267Z",
     "iopub.status.busy": "2021-07-10T11:35:26.889350Z",
     "iopub.status.idle": "2021-07-10T11:35:26.931603Z",
     "shell.execute_reply": "2021-07-10T11:35:26.930967Z",
     "shell.execute_reply.started": "2021-07-10T11:34:21.140075Z"
    },
    "papermill": {
     "duration": 0.111642,
     "end_time": "2021-07-10T11:35:26.931745",
     "exception": false,
     "start_time": "2021-07-10T11:35:26.820103",
     "status": "completed"
    },
    "tags": []
   },
   "outputs": [
    {
     "data": {
      "text/plain": [
       "A/5            602\n",
       "C.A.           177\n",
       "SC/PARIS       145\n",
       "SOTON/O.Q.      80\n",
       "SC              57\n",
       "W./C.           53\n",
       "A/5.            40\n",
       "W.E.P.          23\n",
       "CA              22\n",
       "STON/O2.        21\n",
       "PP              15\n",
       "CA.             15\n",
       "LP              12\n",
       "A/4             12\n",
       "SOTON/OQ        11\n",
       "9566            10\n",
       "S.P.            10\n",
       "9627             9\n",
       "S.O.C.           9\n",
       "PC               9\n",
       "12198            9\n",
       "12736            9\n",
       "10507            8\n",
       "10427            8\n",
       "10304            8\n",
       "10103            8\n",
       "12255            8\n",
       "11395            8\n",
       "11066            8\n",
       "9974             8\n",
       "11924            8\n",
       "10653            8\n",
       "11042            8\n",
       "10867            8\n",
       "11193            8\n",
       "10362            8\n",
       "11538            8\n",
       "12428            8\n",
       "10365            7\n",
       "10461            7\n",
       "10929            7\n",
       "12112            7\n",
       "11733            7\n",
       "11847            7\n",
       "13128            7\n",
       "8997             7\n",
       "12480            7\n",
       "24209            7\n",
       "11934            7\n",
       "12044            7\n",
       "Name: Ticket, dtype: int64"
      ]
     },
     "execution_count": 15,
     "metadata": {},
     "output_type": "execute_result"
    }
   ],
   "source": [
    "pd.set_option('display.max_rows', 101)   # To enable printing 100 rows\n",
    "train['Ticket'].value_counts().head(50)"
   ]
  },
  {
   "cell_type": "markdown",
   "id": "880cb351",
   "metadata": {
    "papermill": {
     "duration": 0.033479,
     "end_time": "2021-07-10T11:35:26.998669",
     "exception": false,
     "start_time": "2021-07-10T11:35:26.965190",
     "status": "completed"
    },
    "tags": []
   },
   "source": [
    "Here I convert `Ticket` column values into one of 12 types"
   ]
  },
  {
   "cell_type": "code",
   "execution_count": 16,
   "id": "c6ad1c79",
   "metadata": {
    "execution": {
     "iopub.execute_input": "2021-07-10T11:35:27.083140Z",
     "iopub.status.busy": "2021-07-10T11:35:27.082023Z",
     "iopub.status.idle": "2021-07-10T11:35:27.461060Z",
     "shell.execute_reply": "2021-07-10T11:35:27.460531Z",
     "shell.execute_reply.started": "2021-07-10T11:34:25.413718Z"
    },
    "papermill": {
     "duration": 0.426162,
     "end_time": "2021-07-10T11:35:27.461220",
     "exception": false,
     "start_time": "2021-07-10T11:35:27.035058",
     "status": "completed"
    },
    "tags": []
   },
   "outputs": [
    {
     "data": {
      "text/plain": [
       "type1     75345\n",
       "type5      7146\n",
       "type2      6234\n",
       "type7      3248\n",
       "type3      2705\n",
       "type4      2672\n",
       "type9       927\n",
       "type6       711\n",
       "type11      543\n",
       "type8       344\n",
       "type12       69\n",
       "type10       56\n",
       "Name: Ticket, dtype: int64"
      ]
     },
     "execution_count": 16,
     "metadata": {},
     "output_type": "execute_result"
    }
   ],
   "source": [
    "import re\n",
    "\n",
    "def fn1(x):\n",
    "    if isinstance(x, str):\n",
    "        if len(re.findall(\"^\\d+$\", x))>0:\n",
    "            return 'type1'\n",
    "        if len(re.findall(\"^(A\\.|A/S|A/5|A/4|AQ/4|AQ/3|A4)\", x))>0:\n",
    "            return 'type2'\n",
    "        if len(re.findall(\"^(C|CA|CA\\.|C\\.A\\.)\", x))>0:\n",
    "            return 'type3'\n",
    "        if len(re.findall(\"^(SC|S\\.C\\.|SC/PARIS|S\\.C\\./PARIS|SC/Paris|SC/AH|S\\.C\\./A\\.4)\", x))>0:\n",
    "            return 'type4'\n",
    "        if len(re.findall(\"^(PC|PP|P\\.P|P/PP)\", x))>0:\n",
    "            return 'type5'\n",
    "        if len(re.findall(\"^(W\\.C\\.|W./C\\.|W/C)\", x))>0:\n",
    "            return 'type6'\n",
    "        if len(re.findall(\"^(SOTON/O\\.Q|SOTON/OQ|STON/O|STON/O2|SOTON/O2)\", x))>0:\n",
    "            return 'type7'\n",
    "        if len(re.findall(\"^(WE/P|W\\.E\\.P)\", x))>0:\n",
    "            return 'type8'\n",
    "        if len(re.findall(\"^(F\\.C|F\\.C\\.C|Fa)\", x))>0:\n",
    "            return 'type9'\n",
    "        if len(re.findall(\"^(LP)\", x))>0:\n",
    "            return 'type10'\n",
    "        if len(re.findall(\"^(S\\.O\\.C|S\\.P|S\\.O|P\\.P|SO/C)\", x))>0:\n",
    "            return 'type11'\n",
    "        if len(re.findall(\"^(S\\.W\\./PP|SW/PP)\", x))>0:\n",
    "            return 'type12'\n",
    "        \n",
    "        else:\n",
    "            return x\n",
    "    else:\n",
    "        return 'type1'\n",
    "df = train['Ticket'].apply(lambda x: fn1(x))\n",
    "df.value_counts()"
   ]
  },
  {
   "cell_type": "markdown",
   "id": "c5fd4ea0",
   "metadata": {
    "papermill": {
     "duration": 0.034946,
     "end_time": "2021-07-10T11:35:27.530506",
     "exception": false,
     "start_time": "2021-07-10T11:35:27.495560",
     "status": "completed"
    },
    "tags": []
   },
   "source": [
    "Here we can create a new feature `Ticket_type` based on the above insight."
   ]
  },
  {
   "cell_type": "markdown",
   "id": "c5d2c4c3",
   "metadata": {
    "papermill": {
     "duration": 0.033693,
     "end_time": "2021-07-10T11:35:27.598110",
     "exception": false,
     "start_time": "2021-07-10T11:35:27.564417",
     "status": "completed"
    },
    "tags": []
   },
   "source": [
    "<a id='tag3c'></a>\n",
    "### c) [Creating `Ticket_class` column](#content-table)"
   ]
  },
  {
   "cell_type": "code",
   "execution_count": 17,
   "id": "1ea75161",
   "metadata": {
    "execution": {
     "iopub.execute_input": "2021-07-10T11:35:27.670310Z",
     "iopub.status.busy": "2021-07-10T11:35:27.669608Z",
     "iopub.status.idle": "2021-07-10T11:35:27.686334Z",
     "shell.execute_reply": "2021-07-10T11:35:27.686866Z",
     "shell.execute_reply.started": "2021-07-10T11:34:29.101484Z"
    },
    "papermill": {
     "duration": 0.055183,
     "end_time": "2021-07-10T11:35:27.687024",
     "exception": false,
     "start_time": "2021-07-10T11:35:27.631841",
     "status": "completed"
    },
    "tags": []
   },
   "outputs": [
    {
     "data": {
      "text/html": [
       "<div>\n",
       "<style scoped>\n",
       "    .dataframe tbody tr th:only-of-type {\n",
       "        vertical-align: middle;\n",
       "    }\n",
       "\n",
       "    .dataframe tbody tr th {\n",
       "        vertical-align: top;\n",
       "    }\n",
       "\n",
       "    .dataframe thead th {\n",
       "        text-align: right;\n",
       "    }\n",
       "</style>\n",
       "<table border=\"1\" class=\"dataframe\">\n",
       "  <thead>\n",
       "    <tr style=\"text-align: right;\">\n",
       "      <th></th>\n",
       "      <th>PassengerId</th>\n",
       "      <th>Survived</th>\n",
       "      <th>Pclass</th>\n",
       "      <th>Name</th>\n",
       "      <th>Sex</th>\n",
       "      <th>Age</th>\n",
       "      <th>SibSp</th>\n",
       "      <th>Parch</th>\n",
       "      <th>Ticket</th>\n",
       "      <th>Fare</th>\n",
       "      <th>Cabin</th>\n",
       "      <th>Embarked</th>\n",
       "      <th>Ticket_class</th>\n",
       "    </tr>\n",
       "  </thead>\n",
       "  <tbody>\n",
       "    <tr>\n",
       "      <th>0</th>\n",
       "      <td>0</td>\n",
       "      <td>1</td>\n",
       "      <td>1</td>\n",
       "      <td>Oconnor, Frankie</td>\n",
       "      <td>male</td>\n",
       "      <td>NaN</td>\n",
       "      <td>2</td>\n",
       "      <td>0</td>\n",
       "      <td>209245</td>\n",
       "      <td>27.14</td>\n",
       "      <td>C12239</td>\n",
       "      <td>S</td>\n",
       "      <td>type1</td>\n",
       "    </tr>\n",
       "    <tr>\n",
       "      <th>1</th>\n",
       "      <td>1</td>\n",
       "      <td>0</td>\n",
       "      <td>3</td>\n",
       "      <td>Bryan, Drew</td>\n",
       "      <td>male</td>\n",
       "      <td>NaN</td>\n",
       "      <td>0</td>\n",
       "      <td>0</td>\n",
       "      <td>27323</td>\n",
       "      <td>13.35</td>\n",
       "      <td>NaN</td>\n",
       "      <td>S</td>\n",
       "      <td>type1</td>\n",
       "    </tr>\n",
       "    <tr>\n",
       "      <th>2</th>\n",
       "      <td>2</td>\n",
       "      <td>0</td>\n",
       "      <td>3</td>\n",
       "      <td>Owens, Kenneth</td>\n",
       "      <td>male</td>\n",
       "      <td>0.33</td>\n",
       "      <td>1</td>\n",
       "      <td>2</td>\n",
       "      <td>CA 457703</td>\n",
       "      <td>71.29</td>\n",
       "      <td>NaN</td>\n",
       "      <td>S</td>\n",
       "      <td>type3</td>\n",
       "    </tr>\n",
       "    <tr>\n",
       "      <th>3</th>\n",
       "      <td>3</td>\n",
       "      <td>0</td>\n",
       "      <td>3</td>\n",
       "      <td>Kramer, James</td>\n",
       "      <td>male</td>\n",
       "      <td>19.00</td>\n",
       "      <td>0</td>\n",
       "      <td>0</td>\n",
       "      <td>A. 10866</td>\n",
       "      <td>13.04</td>\n",
       "      <td>NaN</td>\n",
       "      <td>S</td>\n",
       "      <td>type2</td>\n",
       "    </tr>\n",
       "    <tr>\n",
       "      <th>4</th>\n",
       "      <td>4</td>\n",
       "      <td>1</td>\n",
       "      <td>3</td>\n",
       "      <td>Bond, Michael</td>\n",
       "      <td>male</td>\n",
       "      <td>25.00</td>\n",
       "      <td>0</td>\n",
       "      <td>0</td>\n",
       "      <td>427635</td>\n",
       "      <td>7.76</td>\n",
       "      <td>NaN</td>\n",
       "      <td>S</td>\n",
       "      <td>type1</td>\n",
       "    </tr>\n",
       "  </tbody>\n",
       "</table>\n",
       "</div>"
      ],
      "text/plain": [
       "   PassengerId  Survived  Pclass              Name   Sex    Age  SibSp  Parch  \\\n",
       "0            0         1       1  Oconnor, Frankie  male    NaN      2      0   \n",
       "1            1         0       3       Bryan, Drew  male    NaN      0      0   \n",
       "2            2         0       3    Owens, Kenneth  male   0.33      1      2   \n",
       "3            3         0       3     Kramer, James  male  19.00      0      0   \n",
       "4            4         1       3     Bond, Michael  male  25.00      0      0   \n",
       "\n",
       "      Ticket   Fare   Cabin Embarked Ticket_class  \n",
       "0     209245  27.14  C12239        S        type1  \n",
       "1      27323  13.35     NaN        S        type1  \n",
       "2  CA 457703  71.29     NaN        S        type3  \n",
       "3   A. 10866  13.04     NaN        S        type2  \n",
       "4     427635   7.76     NaN        S        type1  "
      ]
     },
     "execution_count": 17,
     "metadata": {},
     "output_type": "execute_result"
    }
   ],
   "source": [
    "train['Ticket_class'] = df.values\n",
    "train.head()"
   ]
  },
  {
   "cell_type": "markdown",
   "id": "277f26f4",
   "metadata": {
    "papermill": {
     "duration": 0.03392,
     "end_time": "2021-07-10T11:35:27.755661",
     "exception": false,
     "start_time": "2021-07-10T11:35:27.721741",
     "status": "completed"
    },
    "tags": []
   },
   "source": [
    "<a id='tag4'></a>\n",
    "## 4) [Insight-3 : The `Cabin` column & creating new feature `Cabin_filled`](#content-table)\n",
    "\n",
    "`Cabin` column is more than 67% empty. But we can check if this has got anything to do with `Survival`.\n",
    "We will compare survival rates of records whose `Cabin` column is filled vs not filled ones. \n",
    "\n",
    "For this we create a new column `Cabin_filled` and check survival rate "
   ]
  },
  {
   "cell_type": "code",
   "execution_count": 18,
   "id": "3736b365",
   "metadata": {
    "execution": {
     "iopub.execute_input": "2021-07-10T11:35:27.836116Z",
     "iopub.status.busy": "2021-07-10T11:35:27.835498Z",
     "iopub.status.idle": "2021-07-10T11:35:27.852603Z",
     "shell.execute_reply": "2021-07-10T11:35:27.853074Z",
     "shell.execute_reply.started": "2021-07-10T11:34:31.349325Z"
    },
    "papermill": {
     "duration": 0.063194,
     "end_time": "2021-07-10T11:35:27.853256",
     "exception": false,
     "start_time": "2021-07-10T11:35:27.790062",
     "status": "completed"
    },
    "tags": []
   },
   "outputs": [
    {
     "data": {
      "text/html": [
       "<div>\n",
       "<style scoped>\n",
       "    .dataframe tbody tr th:only-of-type {\n",
       "        vertical-align: middle;\n",
       "    }\n",
       "\n",
       "    .dataframe tbody tr th {\n",
       "        vertical-align: top;\n",
       "    }\n",
       "\n",
       "    .dataframe thead th {\n",
       "        text-align: right;\n",
       "    }\n",
       "</style>\n",
       "<table border=\"1\" class=\"dataframe\">\n",
       "  <thead>\n",
       "    <tr style=\"text-align: right;\">\n",
       "      <th></th>\n",
       "      <th>PassengerId</th>\n",
       "      <th>Survived</th>\n",
       "      <th>Pclass</th>\n",
       "      <th>Name</th>\n",
       "      <th>Sex</th>\n",
       "      <th>Age</th>\n",
       "      <th>SibSp</th>\n",
       "      <th>Parch</th>\n",
       "      <th>Ticket</th>\n",
       "      <th>Fare</th>\n",
       "      <th>Cabin</th>\n",
       "      <th>Embarked</th>\n",
       "      <th>Ticket_class</th>\n",
       "      <th>Cabin_filled</th>\n",
       "    </tr>\n",
       "  </thead>\n",
       "  <tbody>\n",
       "    <tr>\n",
       "      <th>0</th>\n",
       "      <td>0</td>\n",
       "      <td>1</td>\n",
       "      <td>1</td>\n",
       "      <td>Oconnor, Frankie</td>\n",
       "      <td>male</td>\n",
       "      <td>NaN</td>\n",
       "      <td>2</td>\n",
       "      <td>0</td>\n",
       "      <td>209245</td>\n",
       "      <td>27.14</td>\n",
       "      <td>C12239</td>\n",
       "      <td>S</td>\n",
       "      <td>type1</td>\n",
       "      <td>1</td>\n",
       "    </tr>\n",
       "    <tr>\n",
       "      <th>1</th>\n",
       "      <td>1</td>\n",
       "      <td>0</td>\n",
       "      <td>3</td>\n",
       "      <td>Bryan, Drew</td>\n",
       "      <td>male</td>\n",
       "      <td>NaN</td>\n",
       "      <td>0</td>\n",
       "      <td>0</td>\n",
       "      <td>27323</td>\n",
       "      <td>13.35</td>\n",
       "      <td>NaN</td>\n",
       "      <td>S</td>\n",
       "      <td>type1</td>\n",
       "      <td>0</td>\n",
       "    </tr>\n",
       "    <tr>\n",
       "      <th>2</th>\n",
       "      <td>2</td>\n",
       "      <td>0</td>\n",
       "      <td>3</td>\n",
       "      <td>Owens, Kenneth</td>\n",
       "      <td>male</td>\n",
       "      <td>0.33</td>\n",
       "      <td>1</td>\n",
       "      <td>2</td>\n",
       "      <td>CA 457703</td>\n",
       "      <td>71.29</td>\n",
       "      <td>NaN</td>\n",
       "      <td>S</td>\n",
       "      <td>type3</td>\n",
       "      <td>0</td>\n",
       "    </tr>\n",
       "    <tr>\n",
       "      <th>3</th>\n",
       "      <td>3</td>\n",
       "      <td>0</td>\n",
       "      <td>3</td>\n",
       "      <td>Kramer, James</td>\n",
       "      <td>male</td>\n",
       "      <td>19.00</td>\n",
       "      <td>0</td>\n",
       "      <td>0</td>\n",
       "      <td>A. 10866</td>\n",
       "      <td>13.04</td>\n",
       "      <td>NaN</td>\n",
       "      <td>S</td>\n",
       "      <td>type2</td>\n",
       "      <td>0</td>\n",
       "    </tr>\n",
       "    <tr>\n",
       "      <th>4</th>\n",
       "      <td>4</td>\n",
       "      <td>1</td>\n",
       "      <td>3</td>\n",
       "      <td>Bond, Michael</td>\n",
       "      <td>male</td>\n",
       "      <td>25.00</td>\n",
       "      <td>0</td>\n",
       "      <td>0</td>\n",
       "      <td>427635</td>\n",
       "      <td>7.76</td>\n",
       "      <td>NaN</td>\n",
       "      <td>S</td>\n",
       "      <td>type1</td>\n",
       "      <td>0</td>\n",
       "    </tr>\n",
       "  </tbody>\n",
       "</table>\n",
       "</div>"
      ],
      "text/plain": [
       "   PassengerId  Survived  Pclass              Name   Sex    Age  SibSp  Parch  \\\n",
       "0            0         1       1  Oconnor, Frankie  male    NaN      2      0   \n",
       "1            1         0       3       Bryan, Drew  male    NaN      0      0   \n",
       "2            2         0       3    Owens, Kenneth  male   0.33      1      2   \n",
       "3            3         0       3     Kramer, James  male  19.00      0      0   \n",
       "4            4         1       3     Bond, Michael  male  25.00      0      0   \n",
       "\n",
       "      Ticket   Fare   Cabin Embarked Ticket_class  Cabin_filled  \n",
       "0     209245  27.14  C12239        S        type1             1  \n",
       "1      27323  13.35     NaN        S        type1             0  \n",
       "2  CA 457703  71.29     NaN        S        type3             0  \n",
       "3   A. 10866  13.04     NaN        S        type2             0  \n",
       "4     427635   7.76     NaN        S        type1             0  "
      ]
     },
     "execution_count": 18,
     "metadata": {},
     "output_type": "execute_result"
    }
   ],
   "source": [
    "train['Cabin_filled'] = train['Cabin'].notnull().astype(int)\n",
    "train.head()"
   ]
  },
  {
   "cell_type": "code",
   "execution_count": 19,
   "id": "32ef410e",
   "metadata": {
    "execution": {
     "iopub.execute_input": "2021-07-10T11:35:27.928149Z",
     "iopub.status.busy": "2021-07-10T11:35:27.927537Z",
     "iopub.status.idle": "2021-07-10T11:35:27.941406Z",
     "shell.execute_reply": "2021-07-10T11:35:27.941911Z",
     "shell.execute_reply.started": "2021-07-10T11:34:33.726290Z"
    },
    "papermill": {
     "duration": 0.05388,
     "end_time": "2021-07-10T11:35:27.942069",
     "exception": false,
     "start_time": "2021-07-10T11:35:27.888189",
     "status": "completed"
    },
    "tags": []
   },
   "outputs": [
    {
     "data": {
      "text/plain": [
       "Cabin_filled\n",
       "0     34.21 % (23217/67866) Survived\n",
       "1     60.86 % (19557/32134) Survived\n",
       "Name: Survived, dtype: object"
      ]
     },
     "execution_count": 19,
     "metadata": {},
     "output_type": "execute_result"
    }
   ],
   "source": [
    "train.groupby('Cabin_filled')['Survived'].apply(lambda x: f'{x.sum()/len(x)*100: 0.2f} % ({x.sum()}/{len(x)}) Survived')"
   ]
  },
  {
   "cell_type": "markdown",
   "id": "86eafc56",
   "metadata": {
    "papermill": {
     "duration": 0.035203,
     "end_time": "2021-07-10T11:35:28.012331",
     "exception": false,
     "start_time": "2021-07-10T11:35:27.977128",
     "status": "completed"
    },
    "tags": []
   },
   "source": [
    "We see that those with null values in `Cabin` have almost half the survival rate vs those who have it filled. This looks like a promising feature for our model"
   ]
  },
  {
   "cell_type": "markdown",
   "id": "202df4c1",
   "metadata": {
    "papermill": {
     "duration": 0.03474,
     "end_time": "2021-07-10T11:35:28.083401",
     "exception": false,
     "start_time": "2021-07-10T11:35:28.048661",
     "status": "completed"
    },
    "tags": []
   },
   "source": [
    "<a id='tag5'></a>\n",
    "## 5) [Insight-4 : Corelation between `Fare` & `Pclass`](#content-table)\n",
    "\n",
    "`Fare` has 0.133% and 0.134% missing values in train and test data respectively. A way to fill this is by finding a corelation between `Fare` and another column and fill the missing values with different class means of the column. The most promising column that can be corelated to `Fare` is `Pclass` which tells us about the ticket class. "
   ]
  },
  {
   "cell_type": "code",
   "execution_count": 20,
   "id": "91b4b2b4",
   "metadata": {
    "execution": {
     "iopub.execute_input": "2021-07-10T11:35:28.156904Z",
     "iopub.status.busy": "2021-07-10T11:35:28.156303Z",
     "iopub.status.idle": "2021-07-10T11:35:28.169980Z",
     "shell.execute_reply": "2021-07-10T11:35:28.169503Z",
     "shell.execute_reply.started": "2021-07-10T11:34:37.133194Z"
    },
    "papermill": {
     "duration": 0.051075,
     "end_time": "2021-07-10T11:35:28.170109",
     "exception": false,
     "start_time": "2021-07-10T11:35:28.119034",
     "status": "completed"
    },
    "tags": []
   },
   "outputs": [
    {
     "data": {
      "text/plain": [
       "Pclass\n",
       "1    92.653113\n",
       "2    25.756003\n",
       "3    20.618226\n",
       "Name: Fare, dtype: float64"
      ]
     },
     "execution_count": 20,
     "metadata": {},
     "output_type": "execute_result"
    }
   ],
   "source": [
    "train.groupby('Pclass')['Fare'].apply(lambda x: x.mean())"
   ]
  },
  {
   "cell_type": "markdown",
   "id": "27b56bb6",
   "metadata": {
    "papermill": {
     "duration": 0.03507,
     "end_time": "2021-07-10T11:35:28.240705",
     "exception": false,
     "start_time": "2021-07-10T11:35:28.205635",
     "status": "completed"
    },
    "tags": []
   },
   "source": [
    "Average fare for each class is quite different and thus we can fill missing `Fare` values with respective class mean fare from `Pclass`"
   ]
  },
  {
   "cell_type": "markdown",
   "id": "014a2bae",
   "metadata": {
    "papermill": {
     "duration": 0.035708,
     "end_time": "2021-07-10T11:35:28.311708",
     "exception": false,
     "start_time": "2021-07-10T11:35:28.276000",
     "status": "completed"
    },
    "tags": []
   },
   "source": [
    "______________"
   ]
  }
 ],
 "metadata": {
  "kernelspec": {
   "display_name": "Python 3",
   "language": "python",
   "name": "python3"
  },
  "language_info": {
   "codemirror_mode": {
    "name": "ipython",
    "version": 3
   },
   "file_extension": ".py",
   "mimetype": "text/x-python",
   "name": "python",
   "nbconvert_exporter": "python",
   "pygments_lexer": "ipython3",
   "version": "3.7.10"
  },
  "papermill": {
   "default_parameters": {},
   "duration": 14.520043,
   "end_time": "2021-07-10T11:35:29.057437",
   "environment_variables": {},
   "exception": null,
   "input_path": "__notebook__.ipynb",
   "output_path": "__notebook__.ipynb",
   "parameters": {},
   "start_time": "2021-07-10T11:35:14.537394",
   "version": "2.3.3"
  }
 },
 "nbformat": 4,
 "nbformat_minor": 5
}
