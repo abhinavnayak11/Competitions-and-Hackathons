{
 "cells": [
  {
   "cell_type": "markdown",
   "id": "bea748b8",
   "metadata": {
    "papermill": {
     "duration": 0.035574,
     "end_time": "2021-07-10T11:37:12.799269",
     "exception": false,
     "start_time": "2021-07-10T11:37:12.763695",
     "status": "completed"
    },
    "tags": []
   },
   "source": [
    "___________\n",
    "# Summary\n",
    "#### The aim of this notebook is to make first submission and get a baseline score from where improvement can be made. For this I would just be filling the null values, correcting the datatypes which includes one-hot-encoding categorical columns. All this is required as ML models need data which are numerical and void of null values. \n",
    "#### There is no additional EDA/Feature Engineering/Model optimization etc as our aim is first submission.\n",
    "\n",
    "<a id='content-table'></a>\n",
    "## Table of Contents\n",
    "1. [Loading data](#load)\n",
    "2. [Combine Train and Test data](#tag2)\n",
    "3. [Filling missing values](#tag3)\n",
    "4. [Remove unncessary columns](#tag4)\n",
    "5. [Change datatypes if required](#tag5)\n",
    "6. [Splitting into train/test set](#tag6)\n",
    "7. [Training a simple model](#tag7)\n",
    "8. [Making predicitions on Test set](#tag8)\n",
    "9. [Making your first submission](#tag9)"
   ]
  },
  {
   "cell_type": "code",
   "execution_count": 1,
   "id": "b8c5aea6",
   "metadata": {
    "_kg_hide-input": false,
    "execution": {
     "iopub.execute_input": "2021-07-10T11:37:12.873087Z",
     "iopub.status.busy": "2021-07-10T11:37:12.871779Z",
     "iopub.status.idle": "2021-07-10T11:37:12.881331Z",
     "shell.execute_reply": "2021-07-10T11:37:12.881826Z",
     "shell.execute_reply.started": "2021-07-09T23:54:53.769713Z"
    },
    "papermill": {
     "duration": 0.047302,
     "end_time": "2021-07-10T11:37:12.882097",
     "exception": false,
     "start_time": "2021-07-10T11:37:12.834795",
     "status": "completed"
    },
    "tags": []
   },
   "outputs": [],
   "source": [
    "import numpy as np \n",
    "import pandas as pd "
   ]
  },
  {
   "cell_type": "markdown",
   "id": "c51c823a",
   "metadata": {
    "papermill": {
     "duration": 0.034899,
     "end_time": "2021-07-10T11:37:12.950930",
     "exception": false,
     "start_time": "2021-07-10T11:37:12.916031",
     "status": "completed"
    },
    "tags": []
   },
   "source": [
    "<a id='load'></a>\n",
    "## [Step - 1 : Loading data](#content-table)"
   ]
  },
  {
   "cell_type": "code",
   "execution_count": 2,
   "id": "98380314",
   "metadata": {
    "execution": {
     "iopub.execute_input": "2021-07-10T11:37:13.021155Z",
     "iopub.status.busy": "2021-07-10T11:37:13.020593Z",
     "iopub.status.idle": "2021-07-10T11:37:13.748454Z",
     "shell.execute_reply": "2021-07-10T11:37:13.748892Z",
     "shell.execute_reply.started": "2021-07-09T23:54:53.78568Z"
    },
    "papermill": {
     "duration": 0.76464,
     "end_time": "2021-07-10T11:37:13.749057",
     "exception": false,
     "start_time": "2021-07-10T11:37:12.984417",
     "status": "completed"
    },
    "tags": []
   },
   "outputs": [
    {
     "name": "stdout",
     "output_type": "stream",
     "text": [
      "(100000, 12) (100000, 11) (100000, 2)\n",
      "Index(['PassengerId', 'Survived', 'Pclass', 'Name', 'Sex', 'Age', 'SibSp',\n",
      "       'Parch', 'Ticket', 'Fare', 'Cabin', 'Embarked'],\n",
      "      dtype='object')\n",
      "{'Survived'}\n"
     ]
    }
   ],
   "source": [
    "import pandas as pd\n",
    "train = pd.read_csv('/kaggle/input/tabular-playground-series-apr-2021/train.csv')\n",
    "test = pd.read_csv('/kaggle/input/tabular-playground-series-apr-2021/test.csv')\n",
    "submission = pd.read_csv('/kaggle/input/tabular-playground-series-apr-2021/sample_submission.csv')\n",
    "\n",
    "print(train.shape, test.shape, submission.shape)\n",
    "print(train.columns)                             #printing the column names\n",
    "print(set(train.columns)-set(test.columns))      #printing the target column"
   ]
  },
  {
   "cell_type": "markdown",
   "id": "f8f9b67a",
   "metadata": {
    "papermill": {
     "duration": 0.036619,
     "end_time": "2021-07-10T11:37:13.820436",
     "exception": false,
     "start_time": "2021-07-10T11:37:13.783817",
     "status": "completed"
    },
    "tags": []
   },
   "source": [
    "## Print first 5 rows"
   ]
  },
  {
   "cell_type": "code",
   "execution_count": 3,
   "id": "c4573d89",
   "metadata": {
    "execution": {
     "iopub.execute_input": "2021-07-10T11:37:13.912360Z",
     "iopub.status.busy": "2021-07-10T11:37:13.911715Z",
     "iopub.status.idle": "2021-07-10T11:37:13.933072Z",
     "shell.execute_reply": "2021-07-10T11:37:13.933555Z",
     "shell.execute_reply.started": "2021-07-09T23:54:54.600276Z"
    },
    "papermill": {
     "duration": 0.068553,
     "end_time": "2021-07-10T11:37:13.933714",
     "exception": false,
     "start_time": "2021-07-10T11:37:13.865161",
     "status": "completed"
    },
    "tags": []
   },
   "outputs": [
    {
     "data": {
      "text/html": [
       "<div>\n",
       "<style scoped>\n",
       "    .dataframe tbody tr th:only-of-type {\n",
       "        vertical-align: middle;\n",
       "    }\n",
       "\n",
       "    .dataframe tbody tr th {\n",
       "        vertical-align: top;\n",
       "    }\n",
       "\n",
       "    .dataframe thead th {\n",
       "        text-align: right;\n",
       "    }\n",
       "</style>\n",
       "<table border=\"1\" class=\"dataframe\">\n",
       "  <thead>\n",
       "    <tr style=\"text-align: right;\">\n",
       "      <th></th>\n",
       "      <th>PassengerId</th>\n",
       "      <th>Survived</th>\n",
       "      <th>Pclass</th>\n",
       "      <th>Name</th>\n",
       "      <th>Sex</th>\n",
       "      <th>Age</th>\n",
       "      <th>SibSp</th>\n",
       "      <th>Parch</th>\n",
       "      <th>Ticket</th>\n",
       "      <th>Fare</th>\n",
       "      <th>Cabin</th>\n",
       "      <th>Embarked</th>\n",
       "    </tr>\n",
       "  </thead>\n",
       "  <tbody>\n",
       "    <tr>\n",
       "      <th>0</th>\n",
       "      <td>0</td>\n",
       "      <td>1</td>\n",
       "      <td>1</td>\n",
       "      <td>Oconnor, Frankie</td>\n",
       "      <td>male</td>\n",
       "      <td>NaN</td>\n",
       "      <td>2</td>\n",
       "      <td>0</td>\n",
       "      <td>209245</td>\n",
       "      <td>27.14</td>\n",
       "      <td>C12239</td>\n",
       "      <td>S</td>\n",
       "    </tr>\n",
       "    <tr>\n",
       "      <th>1</th>\n",
       "      <td>1</td>\n",
       "      <td>0</td>\n",
       "      <td>3</td>\n",
       "      <td>Bryan, Drew</td>\n",
       "      <td>male</td>\n",
       "      <td>NaN</td>\n",
       "      <td>0</td>\n",
       "      <td>0</td>\n",
       "      <td>27323</td>\n",
       "      <td>13.35</td>\n",
       "      <td>NaN</td>\n",
       "      <td>S</td>\n",
       "    </tr>\n",
       "    <tr>\n",
       "      <th>2</th>\n",
       "      <td>2</td>\n",
       "      <td>0</td>\n",
       "      <td>3</td>\n",
       "      <td>Owens, Kenneth</td>\n",
       "      <td>male</td>\n",
       "      <td>0.33</td>\n",
       "      <td>1</td>\n",
       "      <td>2</td>\n",
       "      <td>CA 457703</td>\n",
       "      <td>71.29</td>\n",
       "      <td>NaN</td>\n",
       "      <td>S</td>\n",
       "    </tr>\n",
       "    <tr>\n",
       "      <th>3</th>\n",
       "      <td>3</td>\n",
       "      <td>0</td>\n",
       "      <td>3</td>\n",
       "      <td>Kramer, James</td>\n",
       "      <td>male</td>\n",
       "      <td>19.00</td>\n",
       "      <td>0</td>\n",
       "      <td>0</td>\n",
       "      <td>A. 10866</td>\n",
       "      <td>13.04</td>\n",
       "      <td>NaN</td>\n",
       "      <td>S</td>\n",
       "    </tr>\n",
       "    <tr>\n",
       "      <th>4</th>\n",
       "      <td>4</td>\n",
       "      <td>1</td>\n",
       "      <td>3</td>\n",
       "      <td>Bond, Michael</td>\n",
       "      <td>male</td>\n",
       "      <td>25.00</td>\n",
       "      <td>0</td>\n",
       "      <td>0</td>\n",
       "      <td>427635</td>\n",
       "      <td>7.76</td>\n",
       "      <td>NaN</td>\n",
       "      <td>S</td>\n",
       "    </tr>\n",
       "  </tbody>\n",
       "</table>\n",
       "</div>"
      ],
      "text/plain": [
       "   PassengerId  Survived  Pclass              Name   Sex    Age  SibSp  Parch  \\\n",
       "0            0         1       1  Oconnor, Frankie  male    NaN      2      0   \n",
       "1            1         0       3       Bryan, Drew  male    NaN      0      0   \n",
       "2            2         0       3    Owens, Kenneth  male   0.33      1      2   \n",
       "3            3         0       3     Kramer, James  male  19.00      0      0   \n",
       "4            4         1       3     Bond, Michael  male  25.00      0      0   \n",
       "\n",
       "      Ticket   Fare   Cabin Embarked  \n",
       "0     209245  27.14  C12239        S  \n",
       "1      27323  13.35     NaN        S  \n",
       "2  CA 457703  71.29     NaN        S  \n",
       "3   A. 10866  13.04     NaN        S  \n",
       "4     427635   7.76     NaN        S  "
      ]
     },
     "execution_count": 3,
     "metadata": {},
     "output_type": "execute_result"
    }
   ],
   "source": [
    "train.head()"
   ]
  },
  {
   "cell_type": "markdown",
   "id": "833ed232",
   "metadata": {
    "papermill": {
     "duration": 0.034044,
     "end_time": "2021-07-10T11:37:14.001770",
     "exception": false,
     "start_time": "2021-07-10T11:37:13.967726",
     "status": "completed"
    },
    "tags": []
   },
   "source": [
    "## Check the %null values in  Train and Test data"
   ]
  },
  {
   "cell_type": "code",
   "execution_count": 4,
   "id": "9e038bc5",
   "metadata": {
    "execution": {
     "iopub.execute_input": "2021-07-10T11:37:14.075594Z",
     "iopub.status.busy": "2021-07-10T11:37:14.074937Z",
     "iopub.status.idle": "2021-07-10T11:37:14.196182Z",
     "shell.execute_reply": "2021-07-10T11:37:14.195533Z",
     "shell.execute_reply.started": "2021-07-09T23:54:54.633851Z"
    },
    "papermill": {
     "duration": 0.160561,
     "end_time": "2021-07-10T11:37:14.196326",
     "exception": false,
     "start_time": "2021-07-10T11:37:14.035765",
     "status": "completed"
    },
    "tags": []
   },
   "outputs": [
    {
     "data": {
      "text/html": [
       "<div>\n",
       "<style scoped>\n",
       "    .dataframe tbody tr th:only-of-type {\n",
       "        vertical-align: middle;\n",
       "    }\n",
       "\n",
       "    .dataframe tbody tr th {\n",
       "        vertical-align: top;\n",
       "    }\n",
       "\n",
       "    .dataframe thead th {\n",
       "        text-align: right;\n",
       "    }\n",
       "</style>\n",
       "<table border=\"1\" class=\"dataframe\">\n",
       "  <thead>\n",
       "    <tr style=\"text-align: right;\">\n",
       "      <th></th>\n",
       "      <th>train</th>\n",
       "      <th>test</th>\n",
       "    </tr>\n",
       "  </thead>\n",
       "  <tbody>\n",
       "    <tr>\n",
       "      <th>PassengerId</th>\n",
       "      <td>0.000</td>\n",
       "      <td>0.000</td>\n",
       "    </tr>\n",
       "    <tr>\n",
       "      <th>Survived</th>\n",
       "      <td>0.000</td>\n",
       "      <td>NaN</td>\n",
       "    </tr>\n",
       "    <tr>\n",
       "      <th>Pclass</th>\n",
       "      <td>0.000</td>\n",
       "      <td>0.000</td>\n",
       "    </tr>\n",
       "    <tr>\n",
       "      <th>Name</th>\n",
       "      <td>0.000</td>\n",
       "      <td>0.000</td>\n",
       "    </tr>\n",
       "    <tr>\n",
       "      <th>Sex</th>\n",
       "      <td>0.000</td>\n",
       "      <td>0.000</td>\n",
       "    </tr>\n",
       "    <tr>\n",
       "      <th>Age</th>\n",
       "      <td>3.292</td>\n",
       "      <td>3.487</td>\n",
       "    </tr>\n",
       "    <tr>\n",
       "      <th>SibSp</th>\n",
       "      <td>0.000</td>\n",
       "      <td>0.000</td>\n",
       "    </tr>\n",
       "    <tr>\n",
       "      <th>Parch</th>\n",
       "      <td>0.000</td>\n",
       "      <td>0.000</td>\n",
       "    </tr>\n",
       "    <tr>\n",
       "      <th>Ticket</th>\n",
       "      <td>4.623</td>\n",
       "      <td>5.181</td>\n",
       "    </tr>\n",
       "    <tr>\n",
       "      <th>Fare</th>\n",
       "      <td>0.134</td>\n",
       "      <td>0.133</td>\n",
       "    </tr>\n",
       "    <tr>\n",
       "      <th>Cabin</th>\n",
       "      <td>67.866</td>\n",
       "      <td>70.831</td>\n",
       "    </tr>\n",
       "    <tr>\n",
       "      <th>Embarked</th>\n",
       "      <td>0.250</td>\n",
       "      <td>0.277</td>\n",
       "    </tr>\n",
       "  </tbody>\n",
       "</table>\n",
       "</div>"
      ],
      "text/plain": [
       "              train    test\n",
       "PassengerId   0.000   0.000\n",
       "Survived      0.000     NaN\n",
       "Pclass        0.000   0.000\n",
       "Name          0.000   0.000\n",
       "Sex           0.000   0.000\n",
       "Age           3.292   3.487\n",
       "SibSp         0.000   0.000\n",
       "Parch         0.000   0.000\n",
       "Ticket        4.623   5.181\n",
       "Fare          0.134   0.133\n",
       "Cabin        67.866  70.831\n",
       "Embarked      0.250   0.277"
      ]
     },
     "execution_count": 4,
     "metadata": {},
     "output_type": "execute_result"
    }
   ],
   "source": [
    "_1 = train.isnull().sum()/len(train)*100\n",
    "_2 = test.isnull().sum()/len(train)*100\n",
    "\n",
    "df = pd.concat([_1,_2], axis = 1)\n",
    "df.columns = ['train', 'test']\n",
    "df"
   ]
  },
  {
   "cell_type": "markdown",
   "id": "f6c1241f",
   "metadata": {
    "papermill": {
     "duration": 0.034738,
     "end_time": "2021-07-10T11:37:14.265616",
     "exception": false,
     "start_time": "2021-07-10T11:37:14.230878",
     "status": "completed"
    },
    "tags": []
   },
   "source": [
    "We see that columns that have null values are same in both the dataset and the % missing values is around the same"
   ]
  },
  {
   "cell_type": "markdown",
   "id": "1d276731",
   "metadata": {
    "papermill": {
     "duration": 0.036639,
     "end_time": "2021-07-10T11:37:14.337685",
     "exception": false,
     "start_time": "2021-07-10T11:37:14.301046",
     "status": "completed"
    },
    "tags": []
   },
   "source": [
    "<a id='tag2'></a>\n",
    "## [Step - 2 : Combine Train and Test data](#content-table)"
   ]
  },
  {
   "cell_type": "code",
   "execution_count": 5,
   "id": "93a0cca9",
   "metadata": {
    "execution": {
     "iopub.execute_input": "2021-07-10T11:37:14.414516Z",
     "iopub.status.busy": "2021-07-10T11:37:14.412735Z",
     "iopub.status.idle": "2021-07-10T11:37:14.485199Z",
     "shell.execute_reply": "2021-07-10T11:37:14.486075Z",
     "shell.execute_reply.started": "2021-07-09T23:54:54.76255Z"
    },
    "papermill": {
     "duration": 0.11325,
     "end_time": "2021-07-10T11:37:14.486421",
     "exception": false,
     "start_time": "2021-07-10T11:37:14.373171",
     "status": "completed"
    },
    "tags": []
   },
   "outputs": [
    {
     "name": "stdout",
     "output_type": "stream",
     "text": [
      "   PassengerId  Survived  Pclass              Name   Sex    Age  SibSp  Parch  \\\n",
      "0            0         1       1  Oconnor, Frankie  male    NaN      2      0   \n",
      "1            1         0       3       Bryan, Drew  male    NaN      0      0   \n",
      "2            2         0       3    Owens, Kenneth  male   0.33      1      2   \n",
      "3            3         0       3     Kramer, James  male  19.00      0      0   \n",
      "4            4         1       3     Bond, Michael  male  25.00      0      0   \n",
      "\n",
      "      Ticket   Fare   Cabin Embarked  \n",
      "0     209245  27.14  C12239        S  \n",
      "1      27323  13.35     NaN        S  \n",
      "2  CA 457703  71.29     NaN        S  \n",
      "3   A. 10866  13.04     NaN        S  \n",
      "4     427635   7.76     NaN        S  \n"
     ]
    },
    {
     "data": {
      "text/html": [
       "<div>\n",
       "<style scoped>\n",
       "    .dataframe tbody tr th:only-of-type {\n",
       "        vertical-align: middle;\n",
       "    }\n",
       "\n",
       "    .dataframe tbody tr th {\n",
       "        vertical-align: top;\n",
       "    }\n",
       "\n",
       "    .dataframe thead th {\n",
       "        text-align: right;\n",
       "    }\n",
       "</style>\n",
       "<table border=\"1\" class=\"dataframe\">\n",
       "  <thead>\n",
       "    <tr style=\"text-align: right;\">\n",
       "      <th></th>\n",
       "      <th>PassengerId</th>\n",
       "      <th>Survived</th>\n",
       "      <th>Pclass</th>\n",
       "      <th>Name</th>\n",
       "      <th>Sex</th>\n",
       "      <th>Age</th>\n",
       "      <th>SibSp</th>\n",
       "      <th>Parch</th>\n",
       "      <th>Ticket</th>\n",
       "      <th>Fare</th>\n",
       "      <th>Cabin</th>\n",
       "      <th>Embarked</th>\n",
       "    </tr>\n",
       "  </thead>\n",
       "  <tbody>\n",
       "    <tr>\n",
       "      <th>99995</th>\n",
       "      <td>199995</td>\n",
       "      <td>-1</td>\n",
       "      <td>3</td>\n",
       "      <td>Cash, Cheryle</td>\n",
       "      <td>female</td>\n",
       "      <td>27.0</td>\n",
       "      <td>0</td>\n",
       "      <td>0</td>\n",
       "      <td>7686</td>\n",
       "      <td>10.12</td>\n",
       "      <td>NaN</td>\n",
       "      <td>Q</td>\n",
       "    </tr>\n",
       "    <tr>\n",
       "      <th>99996</th>\n",
       "      <td>199996</td>\n",
       "      <td>-1</td>\n",
       "      <td>1</td>\n",
       "      <td>Brown, Howard</td>\n",
       "      <td>male</td>\n",
       "      <td>59.0</td>\n",
       "      <td>1</td>\n",
       "      <td>0</td>\n",
       "      <td>13004</td>\n",
       "      <td>68.31</td>\n",
       "      <td>NaN</td>\n",
       "      <td>S</td>\n",
       "    </tr>\n",
       "    <tr>\n",
       "      <th>99997</th>\n",
       "      <td>199997</td>\n",
       "      <td>-1</td>\n",
       "      <td>3</td>\n",
       "      <td>Lightfoot, Cameron</td>\n",
       "      <td>male</td>\n",
       "      <td>47.0</td>\n",
       "      <td>0</td>\n",
       "      <td>0</td>\n",
       "      <td>4383317</td>\n",
       "      <td>10.87</td>\n",
       "      <td>NaN</td>\n",
       "      <td>S</td>\n",
       "    </tr>\n",
       "    <tr>\n",
       "      <th>99998</th>\n",
       "      <td>199998</td>\n",
       "      <td>-1</td>\n",
       "      <td>1</td>\n",
       "      <td>Jacobsen, Margaret</td>\n",
       "      <td>female</td>\n",
       "      <td>49.0</td>\n",
       "      <td>1</td>\n",
       "      <td>2</td>\n",
       "      <td>PC 26988</td>\n",
       "      <td>29.68</td>\n",
       "      <td>B20828</td>\n",
       "      <td>C</td>\n",
       "    </tr>\n",
       "    <tr>\n",
       "      <th>99999</th>\n",
       "      <td>199999</td>\n",
       "      <td>-1</td>\n",
       "      <td>1</td>\n",
       "      <td>Fishback, Joanna</td>\n",
       "      <td>female</td>\n",
       "      <td>41.0</td>\n",
       "      <td>0</td>\n",
       "      <td>2</td>\n",
       "      <td>PC 41824</td>\n",
       "      <td>195.41</td>\n",
       "      <td>E13345</td>\n",
       "      <td>C</td>\n",
       "    </tr>\n",
       "  </tbody>\n",
       "</table>\n",
       "</div>"
      ],
      "text/plain": [
       "       PassengerId  Survived  Pclass                Name     Sex   Age  SibSp  \\\n",
       "99995       199995        -1       3       Cash, Cheryle  female  27.0      0   \n",
       "99996       199996        -1       1       Brown, Howard    male  59.0      1   \n",
       "99997       199997        -1       3  Lightfoot, Cameron    male  47.0      0   \n",
       "99998       199998        -1       1  Jacobsen, Margaret  female  49.0      1   \n",
       "99999       199999        -1       1    Fishback, Joanna  female  41.0      0   \n",
       "\n",
       "       Parch    Ticket    Fare   Cabin Embarked  \n",
       "99995      0      7686   10.12     NaN        Q  \n",
       "99996      0     13004   68.31     NaN        S  \n",
       "99997      0   4383317   10.87     NaN        S  \n",
       "99998      2  PC 26988   29.68  B20828        C  \n",
       "99999      2  PC 41824  195.41  E13345        C  "
      ]
     },
     "execution_count": 5,
     "metadata": {},
     "output_type": "execute_result"
    }
   ],
   "source": [
    "test['Survived'] = -1\n",
    "all_data = pd.concat([train, test])\n",
    "print(all_data.head())\n",
    "all_data.tail()"
   ]
  },
  {
   "cell_type": "markdown",
   "id": "20e7d533",
   "metadata": {
    "papermill": {
     "duration": 0.035246,
     "end_time": "2021-07-10T11:37:14.558439",
     "exception": false,
     "start_time": "2021-07-10T11:37:14.523193",
     "status": "completed"
    },
    "tags": []
   },
   "source": [
    "<a id='tag3'></a>\n",
    "## [Step - 3 : Filling missing values](#content-table)"
   ]
  },
  {
   "cell_type": "markdown",
   "id": "0c82080d",
   "metadata": {
    "papermill": {
     "duration": 0.035123,
     "end_time": "2021-07-10T11:37:14.629457",
     "exception": false,
     "start_time": "2021-07-10T11:37:14.594334",
     "status": "completed"
    },
    "tags": []
   },
   "source": [
    "### Fill 'Age' and 'Fare' value with their mean value"
   ]
  },
  {
   "cell_type": "code",
   "execution_count": 6,
   "id": "fcb63926",
   "metadata": {
    "execution": {
     "iopub.execute_input": "2021-07-10T11:37:14.706343Z",
     "iopub.status.busy": "2021-07-10T11:37:14.705753Z",
     "iopub.status.idle": "2021-07-10T11:37:14.714146Z",
     "shell.execute_reply": "2021-07-10T11:37:14.713658Z",
     "shell.execute_reply.started": "2021-07-09T23:54:54.853031Z"
    },
    "papermill": {
     "duration": 0.049273,
     "end_time": "2021-07-10T11:37:14.714270",
     "exception": false,
     "start_time": "2021-07-10T11:37:14.664997",
     "status": "completed"
    },
    "tags": []
   },
   "outputs": [
    {
     "name": "stdout",
     "output_type": "stream",
     "text": [
      "0\n",
      "0\n"
     ]
    }
   ],
   "source": [
    "for col in ['Age', 'Fare']:\n",
    "    all_data[col] = all_data[col].fillna(all_data[col].mean())\n",
    "    print(all_data[col].isnull().sum())"
   ]
  },
  {
   "cell_type": "markdown",
   "id": "3d858c1d",
   "metadata": {
    "papermill": {
     "duration": 0.035534,
     "end_time": "2021-07-10T11:37:14.785454",
     "exception": false,
     "start_time": "2021-07-10T11:37:14.749920",
     "status": "completed"
    },
    "tags": []
   },
   "source": [
    "### Fill 'Embarked' and 'Ticket' values with their mode value"
   ]
  },
  {
   "cell_type": "code",
   "execution_count": 7,
   "id": "3edc03ea",
   "metadata": {
    "execution": {
     "iopub.execute_input": "2021-07-10T11:37:14.906938Z",
     "iopub.status.busy": "2021-07-10T11:37:14.906279Z",
     "iopub.status.idle": "2021-07-10T11:37:15.058597Z",
     "shell.execute_reply": "2021-07-10T11:37:15.057913Z",
     "shell.execute_reply.started": "2021-07-09T23:54:54.868727Z"
    },
    "papermill": {
     "duration": 0.236948,
     "end_time": "2021-07-10T11:37:15.058731",
     "exception": false,
     "start_time": "2021-07-10T11:37:14.821783",
     "status": "completed"
    },
    "tags": []
   },
   "outputs": [
    {
     "name": "stdout",
     "output_type": "stream",
     "text": [
      "0\n",
      "0\n"
     ]
    }
   ],
   "source": [
    "for col in ['Embarked', 'Ticket']:\n",
    "    all_data[col] = all_data[col].fillna(all_data[col].mode()[0]) \n",
    "    print(all_data[col].isnull().sum())"
   ]
  },
  {
   "cell_type": "markdown",
   "id": "48493bae",
   "metadata": {
    "papermill": {
     "duration": 0.036593,
     "end_time": "2021-07-10T11:37:15.132267",
     "exception": false,
     "start_time": "2021-07-10T11:37:15.095674",
     "status": "completed"
    },
    "tags": []
   },
   "source": [
    "### Filling Cabin values\n",
    "Here 67% values are missing. Hence I will fill it with 1 if value is present and 0 if missing value"
   ]
  },
  {
   "cell_type": "code",
   "execution_count": 8,
   "id": "00a56ba7",
   "metadata": {
    "execution": {
     "iopub.execute_input": "2021-07-10T11:37:15.223647Z",
     "iopub.status.busy": "2021-07-10T11:37:15.222632Z",
     "iopub.status.idle": "2021-07-10T11:37:15.230610Z",
     "shell.execute_reply": "2021-07-10T11:37:15.231045Z",
     "shell.execute_reply.started": "2021-07-09T23:54:55.08575Z"
    },
    "papermill": {
     "duration": 0.062214,
     "end_time": "2021-07-10T11:37:15.231209",
     "exception": false,
     "start_time": "2021-07-10T11:37:15.168995",
     "status": "completed"
    },
    "tags": []
   },
   "outputs": [
    {
     "name": "stdout",
     "output_type": "stream",
     "text": [
      "0\n"
     ]
    }
   ],
   "source": [
    "col = 'Cabin'\n",
    "all_data[col] = all_data[col].notnull().astype(int)\n",
    "print(all_data[col].isnull().sum())"
   ]
  },
  {
   "cell_type": "markdown",
   "id": "83a32976",
   "metadata": {
    "papermill": {
     "duration": 0.035802,
     "end_time": "2021-07-10T11:37:15.302640",
     "exception": false,
     "start_time": "2021-07-10T11:37:15.266838",
     "status": "completed"
    },
    "tags": []
   },
   "source": [
    "### Verify there are no null values"
   ]
  },
  {
   "cell_type": "code",
   "execution_count": 9,
   "id": "ad55284b",
   "metadata": {
    "execution": {
     "iopub.execute_input": "2021-07-10T11:37:15.442882Z",
     "iopub.status.busy": "2021-07-10T11:37:15.441883Z",
     "iopub.status.idle": "2021-07-10T11:37:15.493500Z",
     "shell.execute_reply": "2021-07-10T11:37:15.493008Z",
     "shell.execute_reply.started": "2021-07-09T23:54:55.115839Z"
    },
    "papermill": {
     "duration": 0.150764,
     "end_time": "2021-07-10T11:37:15.493635",
     "exception": false,
     "start_time": "2021-07-10T11:37:15.342871",
     "status": "completed"
    },
    "tags": []
   },
   "outputs": [
    {
     "data": {
      "text/plain": [
       "PassengerId    0.0\n",
       "Survived       0.0\n",
       "Pclass         0.0\n",
       "Name           0.0\n",
       "Sex            0.0\n",
       "Age            0.0\n",
       "SibSp          0.0\n",
       "Parch          0.0\n",
       "Ticket         0.0\n",
       "Fare           0.0\n",
       "Cabin          0.0\n",
       "Embarked       0.0\n",
       "dtype: float64"
      ]
     },
     "execution_count": 9,
     "metadata": {},
     "output_type": "execute_result"
    }
   ],
   "source": [
    "all_data.isnull().sum()/len(train)*100"
   ]
  },
  {
   "cell_type": "markdown",
   "id": "e5ebc627",
   "metadata": {
    "papermill": {
     "duration": 0.036434,
     "end_time": "2021-07-10T11:37:15.567502",
     "exception": false,
     "start_time": "2021-07-10T11:37:15.531068",
     "status": "completed"
    },
    "tags": []
   },
   "source": [
    "<a id='tag4'></a>\n",
    "## [Step - 4 : Remove unncessary columns](#content-table)\n",
    "\n",
    "We will check %unique values in column"
   ]
  },
  {
   "cell_type": "code",
   "execution_count": 10,
   "id": "b129cfb7",
   "metadata": {
    "execution": {
     "iopub.execute_input": "2021-07-10T11:37:15.668703Z",
     "iopub.status.busy": "2021-07-10T11:37:15.667602Z",
     "iopub.status.idle": "2021-07-10T11:37:15.846819Z",
     "shell.execute_reply": "2021-07-10T11:37:15.847255Z",
     "shell.execute_reply.started": "2021-07-09T23:54:55.214311Z"
    },
    "papermill": {
     "duration": 0.242411,
     "end_time": "2021-07-10T11:37:15.847504",
     "exception": false,
     "start_time": "2021-07-10T11:37:15.605093",
     "status": "completed"
    },
    "tags": []
   },
   "outputs": [
    {
     "name": "stdout",
     "output_type": "stream",
     "text": [
      "Name : 87.42699999999999\n",
      "Sex : 0.001\n",
      "Ticket : 66.3065\n",
      "Embarked : 0.0015\n"
     ]
    }
   ],
   "source": [
    "# Taking only categorical columns\n",
    "cols = [col for col in all_data.columns if all_data[col].dtype == 'object']\n",
    "cols\n",
    "\n",
    "for col in cols:\n",
    "    print(f\"{col} : {all_data[col].nunique()/len(all_data)*100}\")"
   ]
  },
  {
   "cell_type": "markdown",
   "id": "6bb28dd0",
   "metadata": {
    "papermill": {
     "duration": 0.037213,
     "end_time": "2021-07-10T11:37:15.921954",
     "exception": false,
     "start_time": "2021-07-10T11:37:15.884741",
     "status": "completed"
    },
    "tags": []
   },
   "source": [
    "`'Name'` and `'Ticket'` columns have more than 87% & 66% unique values respectively. They don't give any information to the model just as is. EDA/Feature Engineering might give us some insight, but we are not doing that here."
   ]
  },
  {
   "cell_type": "code",
   "execution_count": 11,
   "id": "b491bfa9",
   "metadata": {
    "execution": {
     "iopub.execute_input": "2021-07-10T11:37:16.001983Z",
     "iopub.status.busy": "2021-07-10T11:37:16.000958Z",
     "iopub.status.idle": "2021-07-10T11:37:16.055913Z",
     "shell.execute_reply": "2021-07-10T11:37:16.055224Z",
     "shell.execute_reply.started": "2021-07-09T23:54:55.440191Z"
    },
    "papermill": {
     "duration": 0.096807,
     "end_time": "2021-07-10T11:37:16.056071",
     "exception": false,
     "start_time": "2021-07-10T11:37:15.959264",
     "status": "completed"
    },
    "tags": []
   },
   "outputs": [],
   "source": [
    "all_data.drop(['Name', 'Ticket'], axis = 1, inplace = True)"
   ]
  },
  {
   "cell_type": "markdown",
   "id": "eaff62cd",
   "metadata": {
    "papermill": {
     "duration": 0.03674,
     "end_time": "2021-07-10T11:37:16.130153",
     "exception": false,
     "start_time": "2021-07-10T11:37:16.093413",
     "status": "completed"
    },
    "tags": []
   },
   "source": [
    "<a id='tag5'></a>\n",
    "## [Step - 5 : Change datatypes if required](#content-table)"
   ]
  },
  {
   "cell_type": "markdown",
   "id": "16ea3db5",
   "metadata": {
    "papermill": {
     "duration": 0.036511,
     "end_time": "2021-07-10T11:37:16.204077",
     "exception": false,
     "start_time": "2021-07-10T11:37:16.167566",
     "status": "completed"
    },
    "tags": []
   },
   "source": [
    "### Check column datatype with a sample datatype"
   ]
  },
  {
   "cell_type": "code",
   "execution_count": 12,
   "id": "0def78f4",
   "metadata": {
    "execution": {
     "iopub.execute_input": "2021-07-10T11:37:16.289181Z",
     "iopub.status.busy": "2021-07-10T11:37:16.288560Z",
     "iopub.status.idle": "2021-07-10T11:37:16.291981Z",
     "shell.execute_reply": "2021-07-10T11:37:16.291506Z",
     "shell.execute_reply.started": "2021-07-09T23:54:55.499877Z"
    },
    "papermill": {
     "duration": 0.0516,
     "end_time": "2021-07-10T11:37:16.292098",
     "exception": false,
     "start_time": "2021-07-10T11:37:16.240498",
     "status": "completed"
    },
    "tags": []
   },
   "outputs": [
    {
     "data": {
      "text/html": [
       "<div>\n",
       "<style scoped>\n",
       "    .dataframe tbody tr th:only-of-type {\n",
       "        vertical-align: middle;\n",
       "    }\n",
       "\n",
       "    .dataframe tbody tr th {\n",
       "        vertical-align: top;\n",
       "    }\n",
       "\n",
       "    .dataframe thead th {\n",
       "        text-align: right;\n",
       "    }\n",
       "</style>\n",
       "<table border=\"1\" class=\"dataframe\">\n",
       "  <thead>\n",
       "    <tr style=\"text-align: right;\">\n",
       "      <th></th>\n",
       "      <th>sample</th>\n",
       "      <th>dtype</th>\n",
       "    </tr>\n",
       "  </thead>\n",
       "  <tbody>\n",
       "    <tr>\n",
       "      <th>PassengerId</th>\n",
       "      <td>0</td>\n",
       "      <td>int64</td>\n",
       "    </tr>\n",
       "    <tr>\n",
       "      <th>Survived</th>\n",
       "      <td>1</td>\n",
       "      <td>int64</td>\n",
       "    </tr>\n",
       "    <tr>\n",
       "      <th>Pclass</th>\n",
       "      <td>1</td>\n",
       "      <td>int64</td>\n",
       "    </tr>\n",
       "    <tr>\n",
       "      <th>Sex</th>\n",
       "      <td>male</td>\n",
       "      <td>object</td>\n",
       "    </tr>\n",
       "    <tr>\n",
       "      <th>Age</th>\n",
       "      <td>34.464565</td>\n",
       "      <td>float64</td>\n",
       "    </tr>\n",
       "    <tr>\n",
       "      <th>SibSp</th>\n",
       "      <td>2</td>\n",
       "      <td>int64</td>\n",
       "    </tr>\n",
       "    <tr>\n",
       "      <th>Parch</th>\n",
       "      <td>0</td>\n",
       "      <td>int64</td>\n",
       "    </tr>\n",
       "    <tr>\n",
       "      <th>Fare</th>\n",
       "      <td>27.14</td>\n",
       "      <td>float64</td>\n",
       "    </tr>\n",
       "    <tr>\n",
       "      <th>Cabin</th>\n",
       "      <td>1</td>\n",
       "      <td>int64</td>\n",
       "    </tr>\n",
       "    <tr>\n",
       "      <th>Embarked</th>\n",
       "      <td>S</td>\n",
       "      <td>object</td>\n",
       "    </tr>\n",
       "  </tbody>\n",
       "</table>\n",
       "</div>"
      ],
      "text/plain": [
       "                sample    dtype\n",
       "PassengerId          0    int64\n",
       "Survived             1    int64\n",
       "Pclass               1    int64\n",
       "Sex               male   object\n",
       "Age          34.464565  float64\n",
       "SibSp                2    int64\n",
       "Parch                0    int64\n",
       "Fare             27.14  float64\n",
       "Cabin                1    int64\n",
       "Embarked             S   object"
      ]
     },
     "execution_count": 12,
     "metadata": {},
     "output_type": "execute_result"
    }
   ],
   "source": [
    "df = pd.concat([all_data.iloc[0], all_data.dtypes], axis = 1)\n",
    "df.columns = ['sample', 'dtype']\n",
    "df"
   ]
  },
  {
   "cell_type": "markdown",
   "id": "d2731639",
   "metadata": {
    "papermill": {
     "duration": 0.036616,
     "end_time": "2021-07-10T11:37:16.365850",
     "exception": false,
     "start_time": "2021-07-10T11:37:16.329234",
     "status": "completed"
    },
    "tags": []
   },
   "source": [
    "Here we see that the data type of sample matches with the datatype of the column. Hence no need to change column datatype"
   ]
  },
  {
   "cell_type": "markdown",
   "id": "5fd575fd",
   "metadata": {
    "papermill": {
     "duration": 0.037834,
     "end_time": "2021-07-10T11:37:16.442111",
     "exception": false,
     "start_time": "2021-07-10T11:37:16.404277",
     "status": "completed"
    },
    "tags": []
   },
   "source": [
    "### One-hot-encode categorical columns"
   ]
  },
  {
   "cell_type": "code",
   "execution_count": 13,
   "id": "b9c47f79",
   "metadata": {
    "execution": {
     "iopub.execute_input": "2021-07-10T11:37:16.523926Z",
     "iopub.status.busy": "2021-07-10T11:37:16.523259Z",
     "iopub.status.idle": "2021-07-10T11:37:16.526851Z",
     "shell.execute_reply": "2021-07-10T11:37:16.526242Z",
     "shell.execute_reply.started": "2021-07-09T23:54:55.51664Z"
    },
    "papermill": {
     "duration": 0.046708,
     "end_time": "2021-07-10T11:37:16.527000",
     "exception": false,
     "start_time": "2021-07-10T11:37:16.480292",
     "status": "completed"
    },
    "tags": []
   },
   "outputs": [
    {
     "data": {
      "text/plain": [
       "['Sex', 'Embarked']"
      ]
     },
     "execution_count": 13,
     "metadata": {},
     "output_type": "execute_result"
    }
   ],
   "source": [
    "# Check which categorical columns are left\n",
    "cols = [col for col in all_data.columns if all_data[col].dtype == 'object']\n",
    "cols"
   ]
  },
  {
   "cell_type": "code",
   "execution_count": 14,
   "id": "f07b03c2",
   "metadata": {
    "execution": {
     "iopub.execute_input": "2021-07-10T11:37:16.609140Z",
     "iopub.status.busy": "2021-07-10T11:37:16.608529Z",
     "iopub.status.idle": "2021-07-10T11:37:16.677582Z",
     "shell.execute_reply": "2021-07-10T11:37:16.678046Z",
     "shell.execute_reply.started": "2021-07-09T23:54:55.531467Z"
    },
    "papermill": {
     "duration": 0.113512,
     "end_time": "2021-07-10T11:37:16.678226",
     "exception": false,
     "start_time": "2021-07-10T11:37:16.564714",
     "status": "completed"
    },
    "tags": []
   },
   "outputs": [
    {
     "data": {
      "text/html": [
       "<div>\n",
       "<style scoped>\n",
       "    .dataframe tbody tr th:only-of-type {\n",
       "        vertical-align: middle;\n",
       "    }\n",
       "\n",
       "    .dataframe tbody tr th {\n",
       "        vertical-align: top;\n",
       "    }\n",
       "\n",
       "    .dataframe thead th {\n",
       "        text-align: right;\n",
       "    }\n",
       "</style>\n",
       "<table border=\"1\" class=\"dataframe\">\n",
       "  <thead>\n",
       "    <tr style=\"text-align: right;\">\n",
       "      <th></th>\n",
       "      <th>PassengerId</th>\n",
       "      <th>Survived</th>\n",
       "      <th>Pclass</th>\n",
       "      <th>Age</th>\n",
       "      <th>SibSp</th>\n",
       "      <th>Parch</th>\n",
       "      <th>Fare</th>\n",
       "      <th>Cabin</th>\n",
       "      <th>Sex_male</th>\n",
       "      <th>Embarked_Q</th>\n",
       "      <th>Embarked_S</th>\n",
       "    </tr>\n",
       "  </thead>\n",
       "  <tbody>\n",
       "    <tr>\n",
       "      <th>0</th>\n",
       "      <td>0</td>\n",
       "      <td>1</td>\n",
       "      <td>1</td>\n",
       "      <td>34.464565</td>\n",
       "      <td>2</td>\n",
       "      <td>0</td>\n",
       "      <td>27.14</td>\n",
       "      <td>1</td>\n",
       "      <td>1</td>\n",
       "      <td>0</td>\n",
       "      <td>1</td>\n",
       "    </tr>\n",
       "    <tr>\n",
       "      <th>1</th>\n",
       "      <td>1</td>\n",
       "      <td>0</td>\n",
       "      <td>3</td>\n",
       "      <td>34.464565</td>\n",
       "      <td>0</td>\n",
       "      <td>0</td>\n",
       "      <td>13.35</td>\n",
       "      <td>0</td>\n",
       "      <td>1</td>\n",
       "      <td>0</td>\n",
       "      <td>1</td>\n",
       "    </tr>\n",
       "    <tr>\n",
       "      <th>2</th>\n",
       "      <td>2</td>\n",
       "      <td>0</td>\n",
       "      <td>3</td>\n",
       "      <td>0.330000</td>\n",
       "      <td>1</td>\n",
       "      <td>2</td>\n",
       "      <td>71.29</td>\n",
       "      <td>0</td>\n",
       "      <td>1</td>\n",
       "      <td>0</td>\n",
       "      <td>1</td>\n",
       "    </tr>\n",
       "    <tr>\n",
       "      <th>3</th>\n",
       "      <td>3</td>\n",
       "      <td>0</td>\n",
       "      <td>3</td>\n",
       "      <td>19.000000</td>\n",
       "      <td>0</td>\n",
       "      <td>0</td>\n",
       "      <td>13.04</td>\n",
       "      <td>0</td>\n",
       "      <td>1</td>\n",
       "      <td>0</td>\n",
       "      <td>1</td>\n",
       "    </tr>\n",
       "    <tr>\n",
       "      <th>4</th>\n",
       "      <td>4</td>\n",
       "      <td>1</td>\n",
       "      <td>3</td>\n",
       "      <td>25.000000</td>\n",
       "      <td>0</td>\n",
       "      <td>0</td>\n",
       "      <td>7.76</td>\n",
       "      <td>0</td>\n",
       "      <td>1</td>\n",
       "      <td>0</td>\n",
       "      <td>1</td>\n",
       "    </tr>\n",
       "  </tbody>\n",
       "</table>\n",
       "</div>"
      ],
      "text/plain": [
       "   PassengerId  Survived  Pclass        Age  SibSp  Parch   Fare  Cabin  \\\n",
       "0            0         1       1  34.464565      2      0  27.14      1   \n",
       "1            1         0       3  34.464565      0      0  13.35      0   \n",
       "2            2         0       3   0.330000      1      2  71.29      0   \n",
       "3            3         0       3  19.000000      0      0  13.04      0   \n",
       "4            4         1       3  25.000000      0      0   7.76      0   \n",
       "\n",
       "   Sex_male  Embarked_Q  Embarked_S  \n",
       "0         1           0           1  \n",
       "1         1           0           1  \n",
       "2         1           0           1  \n",
       "3         1           0           1  \n",
       "4         1           0           1  "
      ]
     },
     "execution_count": 14,
     "metadata": {},
     "output_type": "execute_result"
    }
   ],
   "source": [
    "all_data = pd.get_dummies(all_data, drop_first = True)\n",
    "all_data.head()"
   ]
  },
  {
   "cell_type": "markdown",
   "id": "d0ccbd41",
   "metadata": {
    "papermill": {
     "duration": 0.038807,
     "end_time": "2021-07-10T11:37:16.756455",
     "exception": false,
     "start_time": "2021-07-10T11:37:16.717648",
     "status": "completed"
    },
    "tags": []
   },
   "source": [
    "Now our data is ready to be fed into model. So we will split into train/validation/test set and train a basic model"
   ]
  },
  {
   "cell_type": "markdown",
   "id": "ad75dd43",
   "metadata": {
    "papermill": {
     "duration": 0.038881,
     "end_time": "2021-07-10T11:37:16.834470",
     "exception": false,
     "start_time": "2021-07-10T11:37:16.795589",
     "status": "completed"
    },
    "tags": []
   },
   "source": [
    "<a id='tag6'></a>\n",
    "## [Step - 6 : Splitting into train/test set](#content-table)"
   ]
  },
  {
   "cell_type": "markdown",
   "id": "c501a477",
   "metadata": {
    "papermill": {
     "duration": 0.038032,
     "end_time": "2021-07-10T11:37:16.911110",
     "exception": false,
     "start_time": "2021-07-10T11:37:16.873078",
     "status": "completed"
    },
    "tags": []
   },
   "source": [
    "### Split into train-test set"
   ]
  },
  {
   "cell_type": "code",
   "execution_count": 15,
   "id": "9316c05c",
   "metadata": {
    "execution": {
     "iopub.execute_input": "2021-07-10T11:37:16.995928Z",
     "iopub.status.busy": "2021-07-10T11:37:16.995330Z",
     "iopub.status.idle": "2021-07-10T11:37:17.003703Z",
     "shell.execute_reply": "2021-07-10T11:37:17.002950Z",
     "shell.execute_reply.started": "2021-07-09T23:54:55.613806Z"
    },
    "papermill": {
     "duration": 0.053745,
     "end_time": "2021-07-10T11:37:17.004118",
     "exception": false,
     "start_time": "2021-07-10T11:37:16.950373",
     "status": "completed"
    },
    "tags": []
   },
   "outputs": [
    {
     "name": "stdout",
     "output_type": "stream",
     "text": [
      "100000 100000\n"
     ]
    }
   ],
   "source": [
    "n_train = len(train)\n",
    "train_modified = all_data.iloc[:n_train].copy()   # This will create copy of the df. Done to avoid future warnings\n",
    "test_modified = all_data.iloc[n_train:].copy()\n",
    "\n",
    "print(len(train_modified), len(test_modified))"
   ]
  },
  {
   "cell_type": "code",
   "execution_count": 16,
   "id": "404deb1b",
   "metadata": {
    "execution": {
     "iopub.execute_input": "2021-07-10T11:37:17.099582Z",
     "iopub.status.busy": "2021-07-10T11:37:17.098724Z",
     "iopub.status.idle": "2021-07-10T11:37:17.102693Z",
     "shell.execute_reply": "2021-07-10T11:37:17.103124Z",
     "shell.execute_reply.started": "2021-07-09T23:54:55.625645Z"
    },
    "papermill": {
     "duration": 0.057792,
     "end_time": "2021-07-10T11:37:17.103285",
     "exception": false,
     "start_time": "2021-07-10T11:37:17.045493",
     "status": "completed"
    },
    "tags": []
   },
   "outputs": [
    {
     "data": {
      "text/html": [
       "<div>\n",
       "<style scoped>\n",
       "    .dataframe tbody tr th:only-of-type {\n",
       "        vertical-align: middle;\n",
       "    }\n",
       "\n",
       "    .dataframe tbody tr th {\n",
       "        vertical-align: top;\n",
       "    }\n",
       "\n",
       "    .dataframe thead th {\n",
       "        text-align: right;\n",
       "    }\n",
       "</style>\n",
       "<table border=\"1\" class=\"dataframe\">\n",
       "  <thead>\n",
       "    <tr style=\"text-align: right;\">\n",
       "      <th></th>\n",
       "      <th>PassengerId</th>\n",
       "      <th>Survived</th>\n",
       "      <th>Pclass</th>\n",
       "      <th>Age</th>\n",
       "      <th>SibSp</th>\n",
       "      <th>Parch</th>\n",
       "      <th>Fare</th>\n",
       "      <th>Cabin</th>\n",
       "      <th>Sex_male</th>\n",
       "      <th>Embarked_Q</th>\n",
       "      <th>Embarked_S</th>\n",
       "    </tr>\n",
       "  </thead>\n",
       "  <tbody>\n",
       "    <tr>\n",
       "      <th>0</th>\n",
       "      <td>0</td>\n",
       "      <td>1</td>\n",
       "      <td>1</td>\n",
       "      <td>34.464565</td>\n",
       "      <td>2</td>\n",
       "      <td>0</td>\n",
       "      <td>27.14</td>\n",
       "      <td>1</td>\n",
       "      <td>1</td>\n",
       "      <td>0</td>\n",
       "      <td>1</td>\n",
       "    </tr>\n",
       "    <tr>\n",
       "      <th>1</th>\n",
       "      <td>1</td>\n",
       "      <td>0</td>\n",
       "      <td>3</td>\n",
       "      <td>34.464565</td>\n",
       "      <td>0</td>\n",
       "      <td>0</td>\n",
       "      <td>13.35</td>\n",
       "      <td>0</td>\n",
       "      <td>1</td>\n",
       "      <td>0</td>\n",
       "      <td>1</td>\n",
       "    </tr>\n",
       "    <tr>\n",
       "      <th>2</th>\n",
       "      <td>2</td>\n",
       "      <td>0</td>\n",
       "      <td>3</td>\n",
       "      <td>0.330000</td>\n",
       "      <td>1</td>\n",
       "      <td>2</td>\n",
       "      <td>71.29</td>\n",
       "      <td>0</td>\n",
       "      <td>1</td>\n",
       "      <td>0</td>\n",
       "      <td>1</td>\n",
       "    </tr>\n",
       "    <tr>\n",
       "      <th>3</th>\n",
       "      <td>3</td>\n",
       "      <td>0</td>\n",
       "      <td>3</td>\n",
       "      <td>19.000000</td>\n",
       "      <td>0</td>\n",
       "      <td>0</td>\n",
       "      <td>13.04</td>\n",
       "      <td>0</td>\n",
       "      <td>1</td>\n",
       "      <td>0</td>\n",
       "      <td>1</td>\n",
       "    </tr>\n",
       "    <tr>\n",
       "      <th>4</th>\n",
       "      <td>4</td>\n",
       "      <td>1</td>\n",
       "      <td>3</td>\n",
       "      <td>25.000000</td>\n",
       "      <td>0</td>\n",
       "      <td>0</td>\n",
       "      <td>7.76</td>\n",
       "      <td>0</td>\n",
       "      <td>1</td>\n",
       "      <td>0</td>\n",
       "      <td>1</td>\n",
       "    </tr>\n",
       "  </tbody>\n",
       "</table>\n",
       "</div>"
      ],
      "text/plain": [
       "   PassengerId  Survived  Pclass        Age  SibSp  Parch   Fare  Cabin  \\\n",
       "0            0         1       1  34.464565      2      0  27.14      1   \n",
       "1            1         0       3  34.464565      0      0  13.35      0   \n",
       "2            2         0       3   0.330000      1      2  71.29      0   \n",
       "3            3         0       3  19.000000      0      0  13.04      0   \n",
       "4            4         1       3  25.000000      0      0   7.76      0   \n",
       "\n",
       "   Sex_male  Embarked_Q  Embarked_S  \n",
       "0         1           0           1  \n",
       "1         1           0           1  \n",
       "2         1           0           1  \n",
       "3         1           0           1  \n",
       "4         1           0           1  "
      ]
     },
     "execution_count": 16,
     "metadata": {},
     "output_type": "execute_result"
    }
   ],
   "source": [
    "train_modified.head()"
   ]
  },
  {
   "cell_type": "code",
   "execution_count": 17,
   "id": "ab37834c",
   "metadata": {
    "execution": {
     "iopub.execute_input": "2021-07-10T11:37:17.188823Z",
     "iopub.status.busy": "2021-07-10T11:37:17.187300Z",
     "iopub.status.idle": "2021-07-10T11:37:17.195043Z",
     "shell.execute_reply": "2021-07-10T11:37:17.194416Z",
     "shell.execute_reply.started": "2021-07-09T23:54:55.646654Z"
    },
    "papermill": {
     "duration": 0.052543,
     "end_time": "2021-07-10T11:37:17.195229",
     "exception": false,
     "start_time": "2021-07-10T11:37:17.142686",
     "status": "completed"
    },
    "tags": []
   },
   "outputs": [],
   "source": [
    "# Removing 'PassengerId' column\n",
    "train_modified.drop('PassengerId', axis = 1, inplace = True)"
   ]
  },
  {
   "cell_type": "code",
   "execution_count": 18,
   "id": "0449e256",
   "metadata": {
    "execution": {
     "iopub.execute_input": "2021-07-10T11:37:17.288682Z",
     "iopub.status.busy": "2021-07-10T11:37:17.287783Z",
     "iopub.status.idle": "2021-07-10T11:37:17.291711Z",
     "shell.execute_reply": "2021-07-10T11:37:17.291119Z",
     "shell.execute_reply.started": "2021-07-09T23:54:55.665034Z"
    },
    "papermill": {
     "duration": 0.056438,
     "end_time": "2021-07-10T11:37:17.291838",
     "exception": false,
     "start_time": "2021-07-10T11:37:17.235400",
     "status": "completed"
    },
    "tags": []
   },
   "outputs": [
    {
     "data": {
      "text/html": [
       "<div>\n",
       "<style scoped>\n",
       "    .dataframe tbody tr th:only-of-type {\n",
       "        vertical-align: middle;\n",
       "    }\n",
       "\n",
       "    .dataframe tbody tr th {\n",
       "        vertical-align: top;\n",
       "    }\n",
       "\n",
       "    .dataframe thead th {\n",
       "        text-align: right;\n",
       "    }\n",
       "</style>\n",
       "<table border=\"1\" class=\"dataframe\">\n",
       "  <thead>\n",
       "    <tr style=\"text-align: right;\">\n",
       "      <th></th>\n",
       "      <th>PassengerId</th>\n",
       "      <th>Survived</th>\n",
       "      <th>Pclass</th>\n",
       "      <th>Age</th>\n",
       "      <th>SibSp</th>\n",
       "      <th>Parch</th>\n",
       "      <th>Fare</th>\n",
       "      <th>Cabin</th>\n",
       "      <th>Sex_male</th>\n",
       "      <th>Embarked_Q</th>\n",
       "      <th>Embarked_S</th>\n",
       "    </tr>\n",
       "  </thead>\n",
       "  <tbody>\n",
       "    <tr>\n",
       "      <th>0</th>\n",
       "      <td>100000</td>\n",
       "      <td>-1</td>\n",
       "      <td>3</td>\n",
       "      <td>19.0</td>\n",
       "      <td>0</td>\n",
       "      <td>0</td>\n",
       "      <td>63.01</td>\n",
       "      <td>0</td>\n",
       "      <td>1</td>\n",
       "      <td>0</td>\n",
       "      <td>1</td>\n",
       "    </tr>\n",
       "    <tr>\n",
       "      <th>1</th>\n",
       "      <td>100001</td>\n",
       "      <td>-1</td>\n",
       "      <td>3</td>\n",
       "      <td>53.0</td>\n",
       "      <td>0</td>\n",
       "      <td>0</td>\n",
       "      <td>5.81</td>\n",
       "      <td>0</td>\n",
       "      <td>0</td>\n",
       "      <td>0</td>\n",
       "      <td>1</td>\n",
       "    </tr>\n",
       "    <tr>\n",
       "      <th>2</th>\n",
       "      <td>100002</td>\n",
       "      <td>-1</td>\n",
       "      <td>1</td>\n",
       "      <td>19.0</td>\n",
       "      <td>0</td>\n",
       "      <td>0</td>\n",
       "      <td>38.91</td>\n",
       "      <td>1</td>\n",
       "      <td>0</td>\n",
       "      <td>0</td>\n",
       "      <td>0</td>\n",
       "    </tr>\n",
       "    <tr>\n",
       "      <th>3</th>\n",
       "      <td>100003</td>\n",
       "      <td>-1</td>\n",
       "      <td>2</td>\n",
       "      <td>25.0</td>\n",
       "      <td>0</td>\n",
       "      <td>0</td>\n",
       "      <td>12.93</td>\n",
       "      <td>0</td>\n",
       "      <td>1</td>\n",
       "      <td>0</td>\n",
       "      <td>1</td>\n",
       "    </tr>\n",
       "    <tr>\n",
       "      <th>4</th>\n",
       "      <td>100004</td>\n",
       "      <td>-1</td>\n",
       "      <td>1</td>\n",
       "      <td>17.0</td>\n",
       "      <td>0</td>\n",
       "      <td>2</td>\n",
       "      <td>26.89</td>\n",
       "      <td>1</td>\n",
       "      <td>0</td>\n",
       "      <td>0</td>\n",
       "      <td>0</td>\n",
       "    </tr>\n",
       "  </tbody>\n",
       "</table>\n",
       "</div>"
      ],
      "text/plain": [
       "   PassengerId  Survived  Pclass   Age  SibSp  Parch   Fare  Cabin  Sex_male  \\\n",
       "0       100000        -1       3  19.0      0      0  63.01      0         1   \n",
       "1       100001        -1       3  53.0      0      0   5.81      0         0   \n",
       "2       100002        -1       1  19.0      0      0  38.91      1         0   \n",
       "3       100003        -1       2  25.0      0      0  12.93      0         1   \n",
       "4       100004        -1       1  17.0      0      2  26.89      1         0   \n",
       "\n",
       "   Embarked_Q  Embarked_S  \n",
       "0           0           1  \n",
       "1           0           1  \n",
       "2           0           0  \n",
       "3           0           1  \n",
       "4           0           0  "
      ]
     },
     "execution_count": 18,
     "metadata": {},
     "output_type": "execute_result"
    }
   ],
   "source": [
    "test_modified.head()"
   ]
  },
  {
   "cell_type": "code",
   "execution_count": 19,
   "id": "b021fcea",
   "metadata": {
    "execution": {
     "iopub.execute_input": "2021-07-10T11:37:17.378106Z",
     "iopub.status.busy": "2021-07-10T11:37:17.376620Z",
     "iopub.status.idle": "2021-07-10T11:37:17.383826Z",
     "shell.execute_reply": "2021-07-10T11:37:17.383192Z",
     "shell.execute_reply.started": "2021-07-09T23:54:55.685789Z"
    },
    "papermill": {
     "duration": 0.052767,
     "end_time": "2021-07-10T11:37:17.383953",
     "exception": false,
     "start_time": "2021-07-10T11:37:17.331186",
     "status": "completed"
    },
    "tags": []
   },
   "outputs": [],
   "source": [
    "# Remove 'Survived' column from test data\n",
    "test_modified.drop('Survived', axis = 1,inplace = True)"
   ]
  },
  {
   "cell_type": "markdown",
   "id": "43d13d0f",
   "metadata": {
    "papermill": {
     "duration": 0.039874,
     "end_time": "2021-07-10T11:37:17.464772",
     "exception": false,
     "start_time": "2021-07-10T11:37:17.424898",
     "status": "completed"
    },
    "tags": []
   },
   "source": [
    "### Create a train-test split on training data"
   ]
  },
  {
   "cell_type": "code",
   "execution_count": 20,
   "id": "646c438b",
   "metadata": {
    "execution": {
     "iopub.execute_input": "2021-07-10T11:37:17.550037Z",
     "iopub.status.busy": "2021-07-10T11:37:17.549240Z",
     "iopub.status.idle": "2021-07-10T11:37:18.436058Z",
     "shell.execute_reply": "2021-07-10T11:37:18.435304Z",
     "shell.execute_reply.started": "2021-07-09T23:54:55.701955Z"
    },
    "papermill": {
     "duration": 0.931566,
     "end_time": "2021-07-10T11:37:18.436254",
     "exception": false,
     "start_time": "2021-07-10T11:37:17.504688",
     "status": "completed"
    },
    "tags": []
   },
   "outputs": [
    {
     "name": "stdout",
     "output_type": "stream",
     "text": [
      "(75000, 9) (25000, 9) (75000,) (25000,)\n"
     ]
    }
   ],
   "source": [
    "from sklearn.model_selection import train_test_split\n",
    "\n",
    "X = train_modified.drop('Survived', axis = 1)\n",
    "y = train_modified['Survived'].copy()\n",
    "\n",
    "x_train, x_test, y_train, y_test = train_test_split(X, y.values, test_size = 0.25, random_state = 42)\n",
    "\n",
    "print(x_train.shape, x_test.shape, y_train.shape, y_test.shape)"
   ]
  },
  {
   "cell_type": "code",
   "execution_count": 21,
   "id": "bbc71dff",
   "metadata": {
    "execution": {
     "iopub.execute_input": "2021-07-10T11:37:18.526746Z",
     "iopub.status.busy": "2021-07-10T11:37:18.525767Z",
     "iopub.status.idle": "2021-07-10T11:37:18.543613Z",
     "shell.execute_reply": "2021-07-10T11:37:18.544116Z",
     "shell.execute_reply.started": "2021-07-09T23:54:56.045035Z"
    },
    "papermill": {
     "duration": 0.065726,
     "end_time": "2021-07-10T11:37:18.544268",
     "exception": false,
     "start_time": "2021-07-10T11:37:18.478542",
     "status": "completed"
    },
    "tags": []
   },
   "outputs": [
    {
     "data": {
      "text/html": [
       "<div>\n",
       "<style scoped>\n",
       "    .dataframe tbody tr th:only-of-type {\n",
       "        vertical-align: middle;\n",
       "    }\n",
       "\n",
       "    .dataframe tbody tr th {\n",
       "        vertical-align: top;\n",
       "    }\n",
       "\n",
       "    .dataframe thead th {\n",
       "        text-align: right;\n",
       "    }\n",
       "</style>\n",
       "<table border=\"1\" class=\"dataframe\">\n",
       "  <thead>\n",
       "    <tr style=\"text-align: right;\">\n",
       "      <th></th>\n",
       "      <th>Pclass</th>\n",
       "      <th>Age</th>\n",
       "      <th>SibSp</th>\n",
       "      <th>Parch</th>\n",
       "      <th>Fare</th>\n",
       "      <th>Cabin</th>\n",
       "      <th>Sex_male</th>\n",
       "      <th>Embarked_Q</th>\n",
       "      <th>Embarked_S</th>\n",
       "    </tr>\n",
       "  </thead>\n",
       "  <tbody>\n",
       "    <tr>\n",
       "      <th>75721</th>\n",
       "      <td>2</td>\n",
       "      <td>57.0</td>\n",
       "      <td>0</td>\n",
       "      <td>0</td>\n",
       "      <td>8.32</td>\n",
       "      <td>0</td>\n",
       "      <td>0</td>\n",
       "      <td>0</td>\n",
       "      <td>0</td>\n",
       "    </tr>\n",
       "    <tr>\n",
       "      <th>80184</th>\n",
       "      <td>3</td>\n",
       "      <td>26.0</td>\n",
       "      <td>0</td>\n",
       "      <td>0</td>\n",
       "      <td>6.17</td>\n",
       "      <td>0</td>\n",
       "      <td>1</td>\n",
       "      <td>0</td>\n",
       "      <td>1</td>\n",
       "    </tr>\n",
       "    <tr>\n",
       "      <th>19864</th>\n",
       "      <td>3</td>\n",
       "      <td>31.0</td>\n",
       "      <td>0</td>\n",
       "      <td>0</td>\n",
       "      <td>7.47</td>\n",
       "      <td>0</td>\n",
       "      <td>0</td>\n",
       "      <td>0</td>\n",
       "      <td>1</td>\n",
       "    </tr>\n",
       "    <tr>\n",
       "      <th>76699</th>\n",
       "      <td>2</td>\n",
       "      <td>41.0</td>\n",
       "      <td>0</td>\n",
       "      <td>0</td>\n",
       "      <td>8.16</td>\n",
       "      <td>0</td>\n",
       "      <td>0</td>\n",
       "      <td>0</td>\n",
       "      <td>1</td>\n",
       "    </tr>\n",
       "    <tr>\n",
       "      <th>92991</th>\n",
       "      <td>2</td>\n",
       "      <td>26.0</td>\n",
       "      <td>0</td>\n",
       "      <td>0</td>\n",
       "      <td>61.50</td>\n",
       "      <td>0</td>\n",
       "      <td>0</td>\n",
       "      <td>0</td>\n",
       "      <td>1</td>\n",
       "    </tr>\n",
       "    <tr>\n",
       "      <th>...</th>\n",
       "      <td>...</td>\n",
       "      <td>...</td>\n",
       "      <td>...</td>\n",
       "      <td>...</td>\n",
       "      <td>...</td>\n",
       "      <td>...</td>\n",
       "      <td>...</td>\n",
       "      <td>...</td>\n",
       "      <td>...</td>\n",
       "    </tr>\n",
       "    <tr>\n",
       "      <th>21271</th>\n",
       "      <td>1</td>\n",
       "      <td>36.0</td>\n",
       "      <td>0</td>\n",
       "      <td>0</td>\n",
       "      <td>9.55</td>\n",
       "      <td>1</td>\n",
       "      <td>0</td>\n",
       "      <td>0</td>\n",
       "      <td>0</td>\n",
       "    </tr>\n",
       "    <tr>\n",
       "      <th>34014</th>\n",
       "      <td>3</td>\n",
       "      <td>31.0</td>\n",
       "      <td>0</td>\n",
       "      <td>0</td>\n",
       "      <td>10.02</td>\n",
       "      <td>0</td>\n",
       "      <td>0</td>\n",
       "      <td>0</td>\n",
       "      <td>1</td>\n",
       "    </tr>\n",
       "    <tr>\n",
       "      <th>81355</th>\n",
       "      <td>2</td>\n",
       "      <td>10.0</td>\n",
       "      <td>0</td>\n",
       "      <td>0</td>\n",
       "      <td>24.57</td>\n",
       "      <td>0</td>\n",
       "      <td>0</td>\n",
       "      <td>0</td>\n",
       "      <td>1</td>\n",
       "    </tr>\n",
       "    <tr>\n",
       "      <th>65720</th>\n",
       "      <td>3</td>\n",
       "      <td>60.0</td>\n",
       "      <td>0</td>\n",
       "      <td>0</td>\n",
       "      <td>26.11</td>\n",
       "      <td>0</td>\n",
       "      <td>0</td>\n",
       "      <td>0</td>\n",
       "      <td>0</td>\n",
       "    </tr>\n",
       "    <tr>\n",
       "      <th>11627</th>\n",
       "      <td>1</td>\n",
       "      <td>52.0</td>\n",
       "      <td>1</td>\n",
       "      <td>1</td>\n",
       "      <td>30.93</td>\n",
       "      <td>1</td>\n",
       "      <td>1</td>\n",
       "      <td>0</td>\n",
       "      <td>1</td>\n",
       "    </tr>\n",
       "  </tbody>\n",
       "</table>\n",
       "<p>25000 rows × 9 columns</p>\n",
       "</div>"
      ],
      "text/plain": [
       "       Pclass   Age  SibSp  Parch   Fare  Cabin  Sex_male  Embarked_Q  \\\n",
       "75721       2  57.0      0      0   8.32      0         0           0   \n",
       "80184       3  26.0      0      0   6.17      0         1           0   \n",
       "19864       3  31.0      0      0   7.47      0         0           0   \n",
       "76699       2  41.0      0      0   8.16      0         0           0   \n",
       "92991       2  26.0      0      0  61.50      0         0           0   \n",
       "...       ...   ...    ...    ...    ...    ...       ...         ...   \n",
       "21271       1  36.0      0      0   9.55      1         0           0   \n",
       "34014       3  31.0      0      0  10.02      0         0           0   \n",
       "81355       2  10.0      0      0  24.57      0         0           0   \n",
       "65720       3  60.0      0      0  26.11      0         0           0   \n",
       "11627       1  52.0      1      1  30.93      1         1           0   \n",
       "\n",
       "       Embarked_S  \n",
       "75721           0  \n",
       "80184           1  \n",
       "19864           1  \n",
       "76699           1  \n",
       "92991           1  \n",
       "...           ...  \n",
       "21271           0  \n",
       "34014           1  \n",
       "81355           1  \n",
       "65720           0  \n",
       "11627           1  \n",
       "\n",
       "[25000 rows x 9 columns]"
      ]
     },
     "execution_count": 21,
     "metadata": {},
     "output_type": "execute_result"
    }
   ],
   "source": [
    "x_test"
   ]
  },
  {
   "cell_type": "markdown",
   "id": "0c534a69",
   "metadata": {
    "papermill": {
     "duration": 0.041041,
     "end_time": "2021-07-10T11:37:18.626645",
     "exception": false,
     "start_time": "2021-07-10T11:37:18.585604",
     "status": "completed"
    },
    "tags": []
   },
   "source": [
    "<a id='tag7'></a>\n",
    "## [Step - 7 : Training a simple model](#content-table)"
   ]
  },
  {
   "cell_type": "code",
   "execution_count": 22,
   "id": "5607c3bd",
   "metadata": {
    "execution": {
     "iopub.execute_input": "2021-07-10T11:37:18.720517Z",
     "iopub.status.busy": "2021-07-10T11:37:18.719610Z",
     "iopub.status.idle": "2021-07-10T11:37:19.269794Z",
     "shell.execute_reply": "2021-07-10T11:37:19.270270Z",
     "shell.execute_reply.started": "2021-07-10T00:29:00.111861Z"
    },
    "papermill": {
     "duration": 0.595303,
     "end_time": "2021-07-10T11:37:19.270450",
     "exception": false,
     "start_time": "2021-07-10T11:37:18.675147",
     "status": "completed"
    },
    "tags": []
   },
   "outputs": [
    {
     "data": {
      "text/plain": [
       "LogisticRegression(random_state=42, solver='liblinear')"
      ]
     },
     "execution_count": 22,
     "metadata": {},
     "output_type": "execute_result"
    }
   ],
   "source": [
    "from sklearn.linear_model import LogisticRegression\n",
    "\n",
    "classifier = LogisticRegression(solver='liblinear', random_state = 42)\n",
    "\n",
    "classifier.fit(x_train.values, y_train)"
   ]
  },
  {
   "cell_type": "code",
   "execution_count": 23,
   "id": "b7abfe5e",
   "metadata": {
    "execution": {
     "iopub.execute_input": "2021-07-10T11:37:19.355364Z",
     "iopub.status.busy": "2021-07-10T11:37:19.354461Z",
     "iopub.status.idle": "2021-07-10T11:37:19.365833Z",
     "shell.execute_reply": "2021-07-10T11:37:19.366606Z",
     "shell.execute_reply.started": "2021-07-10T00:29:03.299547Z"
    },
    "papermill": {
     "duration": 0.05594,
     "end_time": "2021-07-10T11:37:19.366843",
     "exception": false,
     "start_time": "2021-07-10T11:37:19.310903",
     "status": "completed"
    },
    "tags": []
   },
   "outputs": [
    {
     "name": "stdout",
     "output_type": "stream",
     "text": [
      "Model accuracy is :  76.612 %\n"
     ]
    }
   ],
   "source": [
    "y_pred = classifier.predict(x_test.values)\n",
    "accuracy = (y_pred == y_test).astype(int).sum()/len(y_test)*100\n",
    "print(f\"Model accuracy is : {accuracy: .3f} %\")"
   ]
  },
  {
   "cell_type": "markdown",
   "id": "c3ef941e",
   "metadata": {
    "papermill": {
     "duration": 0.056726,
     "end_time": "2021-07-10T11:37:19.498548",
     "exception": false,
     "start_time": "2021-07-10T11:37:19.441822",
     "status": "completed"
    },
    "tags": []
   },
   "source": [
    "An accuracy of 76.612% is a good starting point. From here on we can improve"
   ]
  },
  {
   "cell_type": "markdown",
   "id": "a46d367a",
   "metadata": {
    "papermill": {
     "duration": 0.041402,
     "end_time": "2021-07-10T11:37:19.580625",
     "exception": false,
     "start_time": "2021-07-10T11:37:19.539223",
     "status": "completed"
    },
    "tags": []
   },
   "source": [
    "<a id='tag8'></a>\n",
    "## [Step - 8 : Making predicitions on Test set](#content-table)"
   ]
  },
  {
   "cell_type": "code",
   "execution_count": 24,
   "id": "2a2d1113",
   "metadata": {
    "execution": {
     "iopub.execute_input": "2021-07-10T11:37:19.668660Z",
     "iopub.status.busy": "2021-07-10T11:37:19.668038Z",
     "iopub.status.idle": "2021-07-10T11:37:19.675386Z",
     "shell.execute_reply": "2021-07-10T11:37:19.675781Z",
     "shell.execute_reply.started": "2021-07-10T00:06:12.444238Z"
    },
    "papermill": {
     "duration": 0.054045,
     "end_time": "2021-07-10T11:37:19.675928",
     "exception": false,
     "start_time": "2021-07-10T11:37:19.621883",
     "status": "completed"
    },
    "tags": []
   },
   "outputs": [
    {
     "name": "stdout",
     "output_type": "stream",
     "text": [
      "(100000, 9)\n"
     ]
    }
   ],
   "source": [
    "# Saving 'PassengerId' of test data and deleting it\n",
    "test_idx = test_modified['PassengerId'].copy()\n",
    "\n",
    "test_modified.drop('PassengerId', axis = 1, inplace = True)\n",
    "\n",
    "print(test_modified.shape)"
   ]
  },
  {
   "cell_type": "code",
   "execution_count": 25,
   "id": "8a65078c",
   "metadata": {
    "execution": {
     "iopub.execute_input": "2021-07-10T11:37:19.762996Z",
     "iopub.status.busy": "2021-07-10T11:37:19.761927Z",
     "iopub.status.idle": "2021-07-10T11:37:19.782498Z",
     "shell.execute_reply": "2021-07-10T11:37:19.783421Z"
    },
    "papermill": {
     "duration": 0.066234,
     "end_time": "2021-07-10T11:37:19.783676",
     "exception": false,
     "start_time": "2021-07-10T11:37:19.717442",
     "status": "completed"
    },
    "tags": []
   },
   "outputs": [],
   "source": [
    "y_pred = classifier.predict(test_modified.values)\n",
    "submission.loc[:, 'Survived'] = y_pred"
   ]
  },
  {
   "cell_type": "code",
   "execution_count": 26,
   "id": "26e784d0",
   "metadata": {
    "execution": {
     "iopub.execute_input": "2021-07-10T11:37:19.922044Z",
     "iopub.status.busy": "2021-07-10T11:37:19.921137Z",
     "iopub.status.idle": "2021-07-10T11:37:19.930711Z",
     "shell.execute_reply": "2021-07-10T11:37:19.930047Z"
    },
    "papermill": {
     "duration": 0.06881,
     "end_time": "2021-07-10T11:37:19.930850",
     "exception": false,
     "start_time": "2021-07-10T11:37:19.862040",
     "status": "completed"
    },
    "tags": []
   },
   "outputs": [
    {
     "data": {
      "text/html": [
       "<div>\n",
       "<style scoped>\n",
       "    .dataframe tbody tr th:only-of-type {\n",
       "        vertical-align: middle;\n",
       "    }\n",
       "\n",
       "    .dataframe tbody tr th {\n",
       "        vertical-align: top;\n",
       "    }\n",
       "\n",
       "    .dataframe thead th {\n",
       "        text-align: right;\n",
       "    }\n",
       "</style>\n",
       "<table border=\"1\" class=\"dataframe\">\n",
       "  <thead>\n",
       "    <tr style=\"text-align: right;\">\n",
       "      <th></th>\n",
       "      <th>PassengerId</th>\n",
       "      <th>Survived</th>\n",
       "    </tr>\n",
       "  </thead>\n",
       "  <tbody>\n",
       "    <tr>\n",
       "      <th>0</th>\n",
       "      <td>100000</td>\n",
       "      <td>0</td>\n",
       "    </tr>\n",
       "    <tr>\n",
       "      <th>1</th>\n",
       "      <td>100001</td>\n",
       "      <td>1</td>\n",
       "    </tr>\n",
       "    <tr>\n",
       "      <th>2</th>\n",
       "      <td>100002</td>\n",
       "      <td>1</td>\n",
       "    </tr>\n",
       "    <tr>\n",
       "      <th>3</th>\n",
       "      <td>100003</td>\n",
       "      <td>0</td>\n",
       "    </tr>\n",
       "    <tr>\n",
       "      <th>4</th>\n",
       "      <td>100004</td>\n",
       "      <td>1</td>\n",
       "    </tr>\n",
       "    <tr>\n",
       "      <th>...</th>\n",
       "      <td>...</td>\n",
       "      <td>...</td>\n",
       "    </tr>\n",
       "    <tr>\n",
       "      <th>99995</th>\n",
       "      <td>199995</td>\n",
       "      <td>1</td>\n",
       "    </tr>\n",
       "    <tr>\n",
       "      <th>99996</th>\n",
       "      <td>199996</td>\n",
       "      <td>0</td>\n",
       "    </tr>\n",
       "    <tr>\n",
       "      <th>99997</th>\n",
       "      <td>199997</td>\n",
       "      <td>0</td>\n",
       "    </tr>\n",
       "    <tr>\n",
       "      <th>99998</th>\n",
       "      <td>199998</td>\n",
       "      <td>1</td>\n",
       "    </tr>\n",
       "    <tr>\n",
       "      <th>99999</th>\n",
       "      <td>199999</td>\n",
       "      <td>1</td>\n",
       "    </tr>\n",
       "  </tbody>\n",
       "</table>\n",
       "<p>100000 rows × 2 columns</p>\n",
       "</div>"
      ],
      "text/plain": [
       "       PassengerId  Survived\n",
       "0           100000         0\n",
       "1           100001         1\n",
       "2           100002         1\n",
       "3           100003         0\n",
       "4           100004         1\n",
       "...            ...       ...\n",
       "99995       199995         1\n",
       "99996       199996         0\n",
       "99997       199997         0\n",
       "99998       199998         1\n",
       "99999       199999         1\n",
       "\n",
       "[100000 rows x 2 columns]"
      ]
     },
     "execution_count": 26,
     "metadata": {},
     "output_type": "execute_result"
    }
   ],
   "source": [
    "submission"
   ]
  },
  {
   "cell_type": "markdown",
   "id": "ebd1bb4b",
   "metadata": {
    "papermill": {
     "duration": 0.042821,
     "end_time": "2021-07-10T11:37:20.016908",
     "exception": false,
     "start_time": "2021-07-10T11:37:19.974087",
     "status": "completed"
    },
    "tags": []
   },
   "source": [
    "<a id='tag9'></a>\n",
    "## [Step - 9 : Making your first submission](#content-table)"
   ]
  },
  {
   "cell_type": "code",
   "execution_count": 27,
   "id": "6b25e912",
   "metadata": {
    "execution": {
     "iopub.execute_input": "2021-07-10T11:37:20.109479Z",
     "iopub.status.busy": "2021-07-10T11:37:20.108572Z",
     "iopub.status.idle": "2021-07-10T11:37:20.297404Z",
     "shell.execute_reply": "2021-07-10T11:37:20.297913Z",
     "shell.execute_reply.started": "2021-07-10T00:19:47.8833Z"
    },
    "papermill": {
     "duration": 0.237607,
     "end_time": "2021-07-10T11:37:20.298086",
     "exception": false,
     "start_time": "2021-07-10T11:37:20.060479",
     "status": "completed"
    },
    "tags": []
   },
   "outputs": [],
   "source": [
    "submission.to_csv('submission.csv', index = False)   # index = False is important "
   ]
  },
  {
   "cell_type": "code",
   "execution_count": 28,
   "id": "e6b6236c",
   "metadata": {
    "execution": {
     "iopub.execute_input": "2021-07-10T11:37:20.390918Z",
     "iopub.status.busy": "2021-07-10T11:37:20.390149Z",
     "iopub.status.idle": "2021-07-10T11:37:20.418378Z",
     "shell.execute_reply": "2021-07-10T11:37:20.418840Z",
     "shell.execute_reply.started": "2021-07-10T00:20:05.459068Z"
    },
    "papermill": {
     "duration": 0.076364,
     "end_time": "2021-07-10T11:37:20.419014",
     "exception": false,
     "start_time": "2021-07-10T11:37:20.342650",
     "status": "completed"
    },
    "tags": []
   },
   "outputs": [
    {
     "data": {
      "text/html": [
       "<div>\n",
       "<style scoped>\n",
       "    .dataframe tbody tr th:only-of-type {\n",
       "        vertical-align: middle;\n",
       "    }\n",
       "\n",
       "    .dataframe tbody tr th {\n",
       "        vertical-align: top;\n",
       "    }\n",
       "\n",
       "    .dataframe thead th {\n",
       "        text-align: right;\n",
       "    }\n",
       "</style>\n",
       "<table border=\"1\" class=\"dataframe\">\n",
       "  <thead>\n",
       "    <tr style=\"text-align: right;\">\n",
       "      <th></th>\n",
       "      <th>PassengerId</th>\n",
       "      <th>Survived</th>\n",
       "    </tr>\n",
       "  </thead>\n",
       "  <tbody>\n",
       "    <tr>\n",
       "      <th>0</th>\n",
       "      <td>100000</td>\n",
       "      <td>0</td>\n",
       "    </tr>\n",
       "    <tr>\n",
       "      <th>1</th>\n",
       "      <td>100001</td>\n",
       "      <td>1</td>\n",
       "    </tr>\n",
       "    <tr>\n",
       "      <th>2</th>\n",
       "      <td>100002</td>\n",
       "      <td>1</td>\n",
       "    </tr>\n",
       "    <tr>\n",
       "      <th>3</th>\n",
       "      <td>100003</td>\n",
       "      <td>0</td>\n",
       "    </tr>\n",
       "    <tr>\n",
       "      <th>4</th>\n",
       "      <td>100004</td>\n",
       "      <td>1</td>\n",
       "    </tr>\n",
       "    <tr>\n",
       "      <th>...</th>\n",
       "      <td>...</td>\n",
       "      <td>...</td>\n",
       "    </tr>\n",
       "    <tr>\n",
       "      <th>99995</th>\n",
       "      <td>199995</td>\n",
       "      <td>1</td>\n",
       "    </tr>\n",
       "    <tr>\n",
       "      <th>99996</th>\n",
       "      <td>199996</td>\n",
       "      <td>0</td>\n",
       "    </tr>\n",
       "    <tr>\n",
       "      <th>99997</th>\n",
       "      <td>199997</td>\n",
       "      <td>0</td>\n",
       "    </tr>\n",
       "    <tr>\n",
       "      <th>99998</th>\n",
       "      <td>199998</td>\n",
       "      <td>1</td>\n",
       "    </tr>\n",
       "    <tr>\n",
       "      <th>99999</th>\n",
       "      <td>199999</td>\n",
       "      <td>1</td>\n",
       "    </tr>\n",
       "  </tbody>\n",
       "</table>\n",
       "<p>100000 rows × 2 columns</p>\n",
       "</div>"
      ],
      "text/plain": [
       "       PassengerId  Survived\n",
       "0           100000         0\n",
       "1           100001         1\n",
       "2           100002         1\n",
       "3           100003         0\n",
       "4           100004         1\n",
       "...            ...       ...\n",
       "99995       199995         1\n",
       "99996       199996         0\n",
       "99997       199997         0\n",
       "99998       199998         1\n",
       "99999       199999         1\n",
       "\n",
       "[100000 rows x 2 columns]"
      ]
     },
     "execution_count": 28,
     "metadata": {},
     "output_type": "execute_result"
    }
   ],
   "source": [
    "# Recheck if the file is in correct format\n",
    "pd.read_csv(\"submission.csv\")"
   ]
  },
  {
   "cell_type": "markdown",
   "id": "3b0be0fc",
   "metadata": {
    "papermill": {
     "duration": 0.042637,
     "end_time": "2021-07-10T11:37:20.505555",
     "exception": false,
     "start_time": "2021-07-10T11:37:20.462918",
     "status": "completed"
    },
    "tags": []
   },
   "source": [
    "**Now you have made your first submssion. From here on you can do many things to improve your accuracy. You can do EDA to get better insights in your data. Furthur you can also do feature engineering, hyperparameter optimization, ensembling of models.**"
   ]
  },
  {
   "cell_type": "markdown",
   "id": "abe5c8d3",
   "metadata": {
    "papermill": {
     "duration": 0.042343,
     "end_time": "2021-07-10T11:37:20.589928",
     "exception": false,
     "start_time": "2021-07-10T11:37:20.547585",
     "status": "completed"
    },
    "tags": []
   },
   "source": [
    "_______________"
   ]
  }
 ],
 "metadata": {
  "kernelspec": {
   "display_name": "Python 3",
   "language": "python",
   "name": "python3"
  },
  "language_info": {
   "codemirror_mode": {
    "name": "ipython",
    "version": 3
   },
   "file_extension": ".py",
   "mimetype": "text/x-python",
   "name": "python",
   "nbconvert_exporter": "python",
   "pygments_lexer": "ipython3",
   "version": "3.7.10"
  },
  "papermill": {
   "default_parameters": {},
   "duration": 15.599176,
   "end_time": "2021-07-10T11:37:21.340858",
   "environment_variables": {},
   "exception": null,
   "input_path": "__notebook__.ipynb",
   "output_path": "__notebook__.ipynb",
   "parameters": {},
   "start_time": "2021-07-10T11:37:05.741682",
   "version": "2.3.3"
  }
 },
 "nbformat": 4,
 "nbformat_minor": 5
}
